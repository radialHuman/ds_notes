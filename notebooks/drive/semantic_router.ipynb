{
  "nbformat": 4,
  "nbformat_minor": 0,
  "metadata": {
    "colab": {
      "provenance": [],
      "gpuType": "T4"
    },
    "kernelspec": {
      "name": "python3",
      "display_name": "Python 3"
    },
    "language_info": {
      "name": "python"
    },
    "accelerator": "GPU"
  },
  "cells": [
    {
      "cell_type": "code",
      "execution_count": 2,
      "metadata": {
        "colab": {
          "base_uri": "https://localhost:8080/"
        },
        "id": "b_q8ftCNmUi9",
        "outputId": "2eb9cc03-1af6-438e-e69d-371a5c26d20a"
      },
      "outputs": [
        {
          "output_type": "stream",
          "name": "stdout",
          "text": [
            "\u001b[?25l   \u001b[90m━━━━━━━━━━━━━━━━━━━━━━━━━━━━━━━━━━━━━━━━\u001b[0m \u001b[32m0.0/85.7 kB\u001b[0m \u001b[31m?\u001b[0m eta \u001b[36m-:--:--\u001b[0m\r\u001b[2K   \u001b[90m━━━━━━━━━━━━━━━━━━━━━━━━━━━━━━━━━━━━━━━━\u001b[0m \u001b[32m85.7/85.7 kB\u001b[0m \u001b[31m8.3 MB/s\u001b[0m eta \u001b[36m0:00:00\u001b[0m\n",
            "\u001b[?25h\u001b[?25l   \u001b[90m━━━━━━━━━━━━━━━━━━━━━━━━━━━━━━━━━━━━━━━━\u001b[0m \u001b[32m0.0/1.2 MB\u001b[0m \u001b[31m?\u001b[0m eta \u001b[36m-:--:--\u001b[0m\r\u001b[2K   \u001b[90m━━━━━━━━━━━━━━━━━━━━━━━━━━━━━━━━━━━━━━━━\u001b[0m \u001b[32m1.2/1.2 MB\u001b[0m \u001b[31m69.3 MB/s\u001b[0m eta \u001b[36m0:00:00\u001b[0m\n",
            "\u001b[?25h"
          ]
        }
      ],
      "source": [
        "!pip install -qU semantic-router"
      ]
    },
    {
      "cell_type": "code",
      "source": [
        "from semantic_router import Route\n",
        "from semantic_router.layer import RouteLayer\n",
        "from semantic_router.encoders import HuggingFaceEncoder\n",
        "from semantic_router.encoders.huggingface import HFEndpointEncoder"
      ],
      "metadata": {
        "id": "irgQf02VmcJM"
      },
      "execution_count": 8,
      "outputs": []
    },
    {
      "cell_type": "code",
      "source": [
        "ae = Route(\n",
        "    name=\"adverse event\",\n",
        "    utterances=[\n",
        "        \"Ever since I started taking this new medication, I've been experiencing frequent headaches and dizzy spells. I feel unsteady on my feet and have trouble concentrating.\",\n",
        "\"I've noticed that my stomach has been upset after taking the pill. I've had bouts of nausea, and there's been some discomfort and bloating. It's quite bothersome.\",\n",
        "\"My skin has become more sensitive, and I've developed a rash. Additionally, I've been feeling fatigued and lethargic, which is unusual for me.\",\n",
        "\"I've been having trouble sleeping since I began the new medication. I feel restless and agitated, and it's been affecting my daily activities.\",\n",
        "\"I've experienced mood swings and irritability after taking the medicine. I also noticed a significant loss of appetite and some weight loss.\",\n",
        "    ],\n",
        ")\n",
        "pc = Route(\n",
        "    name=\"product defect complain\",\n",
        "    utterances=[\n",
        "        \"I recently purchased a bottle of your medication, but I've found several tablets that have an unusual smell and taste. I'm concerned about their safety and effectiveness.\",\n",
        "\"The pills in my prescription appear cracked and crumbly. I'm worried they might not be as potent as they should be, and I'm not sure if I should continue taking them.\",\n",
        "\"I've noticed that the color of the capsules has changed since my last refill. They used to be white, but now they're a light blue. Is this a normal variation, or should I be concerned?\",\n",
        "\"The medication I received has an expiration date that's already passed. I'm concerned about taking it, as I don't know if it's still safe and effective.\",\n",
        "\"I found a small, hard particle in one of the capsules. I'm worried that it might be a contaminant, and I'm unsure if I should continue taking the medication.\",\n",
        "    ],\n",
        ")\n",
        "\n",
        "neither = Route(\n",
        "    name=\"other\",\n",
        "    utterances=[\n",
        "        #TODO give example\n",
        "    ],\n",
        ")\n",
        "\n",
        "routes = [ae, pc]"
      ],
      "metadata": {
        "id": "UBnuOmyEnD0s"
      },
      "execution_count": 2,
      "outputs": []
    },
    {
      "cell_type": "code",
      "source": [
        "encoder = HuggingFaceEncoder()\n",
        "# encoder = HFEndpointEncoder(huggingface_url=\"https://huggingface.co/google-bert/bert-base-uncased\") #TODO needs HF api key\n"
      ],
      "metadata": {
        "id": "Xa8Gu28YnEt6"
      },
      "execution_count": 11,
      "outputs": []
    },
    {
      "cell_type": "code",
      "source": [
        "\n",
        "rl = RouteLayer(encoder=encoder, routes=routes)"
      ],
      "metadata": {
        "id": "fC4P-F7OnGNK"
      },
      "execution_count": 12,
      "outputs": []
    },
    {
      "cell_type": "code",
      "source": [
        "rl(\"after using your broken syringe I had blurry vision and pain in the area\").name"
      ],
      "metadata": {
        "id": "_frrkRl0nU9y"
      },
      "execution_count": 16,
      "outputs": []
    },
    {
      "cell_type": "code",
      "source": [],
      "metadata": {
        "id": "jAGAXoQUnWXC"
      },
      "execution_count": 5,
      "outputs": []
    }
  ]
}