{
  "nbformat": 4,
  "nbformat_minor": 0,
  "metadata": {
    "colab": {
      "provenance": [],
      "gpuType": "T4"
    },
    "kernelspec": {
      "name": "python3",
      "display_name": "Python 3"
    },
    "language_info": {
      "name": "python"
    },
    "accelerator": "GPU"
  },
  "cells": [
    {
      "cell_type": "code",
      "source": [
        "'''\n",
        "Steps\n",
        "1. from the options above Runtime -> change runtime type -> t4 gpu\n",
        "2. upload the pdf in the folder icon on the side\n",
        "3. enter the pdf name below and the name of the audio\n",
        "4. run the rest 1/1\n",
        "5. in between the pdf will disappear, reupload it\n",
        "6. leave it be for a while\n",
        "7. look for wav files in the output folder and downlaod it\n",
        "8. if something happens contact\n",
        "'''"
      ],
      "metadata": {
        "id": "mFsV-3JGsGxE"
      },
      "execution_count": null,
      "outputs": []
    },
    {
      "cell_type": "code",
      "source": [
        "filename = \"2504.16621v1.pdf\"\n",
        "audio_book_name = \"Ultra-high-dose\""
      ],
      "metadata": {
        "id": "ZYFb8AOBsGCd"
      },
      "execution_count": null,
      "outputs": []
    },
    {
      "cell_type": "code",
      "source": [
        "# !sudo apt-get install git-lfs\n",
        "# !git lfs install"
      ],
      "metadata": {
        "id": "Uu9JZDqcj8OC"
      },
      "execution_count": 16,
      "outputs": []
    },
    {
      "cell_type": "code",
      "source": [
        "# !nvcc --version"
      ],
      "metadata": {
        "id": "hG-oCsxelYsQ"
      },
      "execution_count": 17,
      "outputs": []
    },
    {
      "cell_type": "code",
      "source": [
        "!pip install phonemizer\n",
        "!pip install transformers\n",
        "!pip install scipy\n",
        "!pip install munch\n",
        "!pip install soundfile\n",
        "!pip install pypdf\n",
        "!pip install pydub\n",
        "# dont run this\n",
        "# !pip install torch==2.4.0 torchvision --index-url https://download.pytorch.org/whl/cu124"
      ],
      "metadata": {
        "id": "anmaJ0d2exnT"
      },
      "execution_count": 18,
      "outputs": []
    },
    {
      "cell_type": "code",
      "source": [
        "!sudo apt-get update\n",
        "!sudo apt-get install espeak-ng\n",
        "!pip install py-espeak-ng"
      ],
      "metadata": {
        "id": "25Y48LCKg_T8"
      },
      "execution_count": null,
      "outputs": []
    },
    {
      "cell_type": "code",
      "execution_count": null,
      "metadata": {
        "id": "s-A5mLeQZ4LP"
      },
      "outputs": [],
      "source": [
        "!rm -r *\n",
        "!mkdir kokoro\n",
        "!wget https://huggingface.co/hexgrad/Kokoro-82M/raw/deea588d3174491a0e06c9036b40b4b384998f1e/README.md\n",
        "!wget https://huggingface.co/hexgrad/Kokoro-82M/raw/deea588d3174491a0e06c9036b40b4b384998f1e/config.json\n",
        "!wget https://huggingface.co/hexgrad/Kokoro-82M/raw/deea588d3174491a0e06c9036b40b4b384998f1e/istftnet.py\n",
        "!wget https://huggingface.co/hexgrad/Kokoro-82M/raw/deea588d3174491a0e06c9036b40b4b384998f1e/kokoro.py\n",
        "!wget https://huggingface.co/hexgrad/Kokoro-82M/raw/deea588d3174491a0e06c9036b40b4b384998f1e/models.py\n",
        "!wget https://huggingface.co/hexgrad/Kokoro-82M/raw/deea588d3174491a0e06c9036b40b4b384998f1e/plbert.py\n",
        "!wget https://huggingface.co/hexgrad/Kokoro-82M/raw/deea588d3174491a0e06c9036b40b4b384998f1e/istftnet.py\n",
        "!mkdir voice\n",
        "!mv * kokoro\n",
        "!wget https://huggingface.co/hexgrad/Kokoro-82M/resolve/main/voices/af_alloy.pt\n",
        "!wget https://huggingface.co/hexgrad/Kokoro-82M/resolve/main/voices/af_aoede.pt\n",
        "!wget https://huggingface.co/hexgrad/Kokoro-82M/resolve/main/voices/af_bella.pt\n",
        "!wget https://huggingface.co/hexgrad/Kokoro-82M/resolve/main/voices/af_heart.pt\n",
        "!wget https://huggingface.co/hexgrad/Kokoro-82M/resolve/main/voices/Upload af_heart.pt\n",
        "!wget https://huggingface.co/hexgrad/Kokoro-82M/resolve/main/voices/af_jessica.pt\n",
        "!wget https://huggingface.co/hexgrad/Kokoro-82M/resolve/main/voices/af_kore.pt\n",
        "!wget https://huggingface.co/hexgrad/Kokoro-82M/resolve/main/voices/af_nicole.pt\n",
        "!wget https://huggingface.co/hexgrad/Kokoro-82M/resolve/main/voices/af_nova.pt\n",
        "!wget https://huggingface.co/hexgrad/Kokoro-82M/resolve/main/voices/af_river.pt\n",
        "!wget https://huggingface.co/hexgrad/Kokoro-82M/resolve/main/voices/af_sarah.pt\n",
        "!wget https://huggingface.co/hexgrad/Kokoro-82M/resolve/main/voices/af_sky.pt\n",
        "!wget https://huggingface.co/hexgrad/Kokoro-82M/resolve/main/voices/am_adam.pt\n",
        "!wget https://huggingface.co/hexgrad/Kokoro-82M/resolve/main/voices/am_echo.pt\n",
        "!wget https://huggingface.co/hexgrad/Kokoro-82M/resolve/main/voices/am_eric.pt\n",
        "!wget https://huggingface.co/hexgrad/Kokoro-82M/resolve/main/voices/am_fenrir.pt\n",
        "!wget https://huggingface.co/hexgrad/Kokoro-82M/resolve/main/voices/am_liam.pt\n",
        "!wget https://huggingface.co/hexgrad/Kokoro-82M/resolve/main/voices/am_michael.pt\n",
        "!wget https://huggingface.co/hexgrad/Kokoro-82M/resolve/main/voices/am_onyx.pt\n",
        "!wget https://huggingface.co/hexgrad/Kokoro-82M/resolve/main/voices/am_puck.pt\n",
        "!wget https://huggingface.co/hexgrad/Kokoro-82M/resolve/main/voices/am_santa.pt\n",
        "!wget https://huggingface.co/hexgrad/Kokoro-82M/resolve/main/voices/Upload am_santa.pt\n",
        "!wget https://huggingface.co/hexgrad/Kokoro-82M/resolve/main/voices/bf_alice.pt\n",
        "!wget https://huggingface.co/hexgrad/Kokoro-82M/resolve/main/voices/bf_emma.pt\n",
        "!wget https://huggingface.co/hexgrad/Kokoro-82M/resolve/main/voices/bf_isabella.pt\n",
        "!wget https://huggingface.co/hexgrad/Kokoro-82M/resolve/main/voices/bf_lily.pt\n",
        "!wget https://huggingface.co/hexgrad/Kokoro-82M/resolve/main/voices/bm_daniel.pt\n",
        "!wget https://huggingface.co/hexgrad/Kokoro-82M/resolve/main/voices/bm_fable.pt\n",
        "!wget https://huggingface.co/hexgrad/Kokoro-82M/resolve/main/voices/bm_george.pt\n",
        "!wget https://huggingface.co/hexgrad/Kokoro-82M/resolve/main/voices/bm_lewis.pt\n",
        "!wget https://huggingface.co/hexgrad/Kokoro-82M/resolve/main/voices/ef_dora.pt\n",
        "!wget https://huggingface.co/hexgrad/Kokoro-82M/resolve/main/voices/em_alex.pt\n",
        "!wget https://huggingface.co/hexgrad/Kokoro-82M/resolve/main/voices/em_santa.pt\n",
        "!wget https://huggingface.co/hexgrad/Kokoro-82M/resolve/main/voices/ff_siwis.pt\n",
        "!wget https://huggingface.co/hexgrad/Kokoro-82M/resolve/main/voices/Upload ff_siwis.pt\n",
        "!wget https://huggingface.co/hexgrad/Kokoro-82M/resolve/main/voices/hf_alpha.pt\n",
        "!wget https://huggingface.co/hexgrad/Kokoro-82M/resolve/main/voices/hf_beta.pt\n",
        "!wget https://huggingface.co/hexgrad/Kokoro-82M/resolve/main/voices/hm_omega.pt\n",
        "!wget https://huggingface.co/hexgrad/Kokoro-82M/resolve/main/voices/hm_psi.pt\n",
        "!wget https://huggingface.co/hexgrad/Kokoro-82M/resolve/main/voices/if_sara.pt\n",
        "!wget https://huggingface.co/hexgrad/Kokoro-82M/resolve/main/voices/im_nicola.pt\n",
        "!wget https://huggingface.co/hexgrad/Kokoro-82M/resolve/main/voices/jf_alpha.pt\n",
        "!wget https://huggingface.co/hexgrad/Kokoro-82M/resolve/main/voices/jf_gongitsune.pt\n",
        "!wget https://huggingface.co/hexgrad/Kokoro-82M/resolve/main/voices/jf_nezumi.pt\n",
        "!wget https://huggingface.co/hexgrad/Kokoro-82M/resolve/main/voices/jf_tebukuro.pt\n",
        "!wget https://huggingface.co/hexgrad/Kokoro-82M/resolve/main/voices/jm_kumo.pt\n",
        "!wget https://huggingface.co/hexgrad/Kokoro-82M/resolve/main/voices/pf_dora.pt\n",
        "!wget https://huggingface.co/hexgrad/Kokoro-82M/resolve/main/voices/pm_alex.pt\n",
        "!wget https://huggingface.co/hexgrad/Kokoro-82M/resolve/main/voices/pm_santa.pt\n",
        "!wget https://huggingface.co/hexgrad/Kokoro-82M/resolve/main/voices/zf_xiaobei.pt\n",
        "!wget https://huggingface.co/hexgrad/Kokoro-82M/resolve/main/voices/zf_xiaoni.pt\n",
        "!wget https://huggingface.co/hexgrad/Kokoro-82M/resolve/main/voices/zf_xiaoxiao.pt\n",
        "!wget https://huggingface.co/hexgrad/Kokoro-82M/resolve/main/voices/zf_xiaoyi.pt\n",
        "!wget https://huggingface.co/hexgrad/Kokoro-82M/resolve/main/voices/zm_yunjian.pt\n",
        "!wget https://huggingface.co/hexgrad/Kokoro-82M/resolve/main/voices/zm_yunxi.pt\n",
        "!wget https://huggingface.co/hexgrad/Kokoro-82M/resolve/main/voices/zm_yunxia.pt\n",
        "!wget https://huggingface.co/hexgrad/Kokoro-82M/resolve/main/voices/zm_yunyang.pt\n",
        "\n",
        "!mv *.pt kokoro/voice/"
      ]
    },
    {
      "cell_type": "code",
      "source": [
        "!mkdir output\n",
        "%cd kokoro\n",
        "!wget https://huggingface.co/hexgrad/Kokoro-82M/resolve/deea588d3174491a0e06c9036b40b4b384998f1e/kokoro-v0_19.pth\n",
        "!wget https://huggingface.co/hexgrad/Kokoro-82M/resolve/main/kokoro-v1_0.pth\n",
        "!pwd\n",
        "!ls -lha"
      ],
      "metadata": {
        "id": "fmDlDQb7gMsC"
      },
      "execution_count": null,
      "outputs": []
    },
    {
      "cell_type": "code",
      "source": [
        "from models import build_model\n",
        "import torch\n",
        "import soundfile as sf\n",
        "from kokoro import generate\n",
        "import os\n",
        "# os.environ['TORCH_FORCE_NO_WEIGHTS_ONLY_LOAD'] = '1'"
      ],
      "metadata": {
        "id": "Cv748SZAaMqN"
      },
      "execution_count": 3,
      "outputs": []
    },
    {
      "cell_type": "code",
      "source": [
        "device = \"cuda\"\n",
        "print(f\"Runnin on device: {device}\")\n",
        "VOICE_NAME = \"am_onyx.pt\"\n",
        "VOICEPACK = torch.load(f\"voice/{VOICE_NAME}\", weights_only=False).to(device)\n",
        "print(f\"Loaded voice: {VOICE_NAME}\")\n",
        "MODEL = build_model(\"kokoro-v0_19.pth\", device)\n",
        "# MODEL = build_model(\"kokoro-v1_0.pth\", device)\n",
        "SAMPLE_RATE = 24000\n"
      ],
      "metadata": {
        "id": "3tc0Ima1jBHu"
      },
      "execution_count": null,
      "outputs": []
    },
    {
      "cell_type": "code",
      "source": [
        "def main(filename : str, content : str, part : int):\n",
        "    # create folder for the book\n",
        "    if not os.path.exists(\"../output/{}\".format(filename)):\n",
        "        os.mkdir(\"../output/{}\".format(filename))\n",
        "    output_file = \"../output/{}/{}.wav\".format(filename,part)\n",
        "\n",
        "    audio = []\n",
        "    # print(f\"===> {part}\")\n",
        "    text = f\"Page number {part}.\" + content\n",
        "    for chunk in text.split(\".\"):\n",
        "        # print(chunk)\n",
        "        if len(chunk) < 2:\n",
        "            # a try except block for non verbalizable text is probably better than this hack\n",
        "            continue\n",
        "        try:\n",
        "            snippet, _ = generate(MODEL, chunk, VOICEPACK, lang=VOICE_NAME[0])\n",
        "        except :\n",
        "            pass\n",
        "        audio.extend(snippet)\n",
        "\n",
        "    sf.write(output_file, audio, SAMPLE_RATE)"
      ],
      "metadata": {
        "id": "i7stW6KkaKVJ"
      },
      "execution_count": 5,
      "outputs": []
    },
    {
      "cell_type": "code",
      "source": [
        "from pypdf import PdfReader\n",
        "from tqdm import tqdm\n",
        "# creating a pdf reader object\n",
        "reader = PdfReader(f'../{filename}')\n",
        "print(len(reader.pages))\n",
        "# extracting text from page\n",
        "start_from = 0\n",
        "for m, page in enumerate(tqdm(reader.pages[start_from:])):\n",
        "    main(audio_book_name, page.extract_text(), m+1+start_from)\n",
        "# text = (\" .... \").join([i.extract_text().replace(\"/n\",\" \") for i in reader.pages[1:]])\n",
        "# main(text)\n"
      ],
      "metadata": {
        "id": "7PI5Xe4WhkLL"
      },
      "execution_count": null,
      "outputs": []
    },
    {
      "cell_type": "code",
      "source": [
        "!zip -r /content/your_book.zip  output"
      ],
      "metadata": {
        "id": "FNjEbvH4rone"
      },
      "execution_count": null,
      "outputs": []
    },
    {
      "cell_type": "code",
      "source": [],
      "metadata": {
        "id": "umjGSg5HtkbM"
      },
      "execution_count": null,
      "outputs": []
    }
  ]
}