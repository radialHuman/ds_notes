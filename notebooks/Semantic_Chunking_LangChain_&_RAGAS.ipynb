{
  "nbformat": 4,
  "nbformat_minor": 0,
  "metadata": {
    "colab": {
      "provenance": []
    },
    "kernelspec": {
      "name": "python3",
      "display_name": "Python 3"
    },
    "language_info": {
      "name": "python"
    },
    "widgets": {
      "application/vnd.jupyter.widget-state+json": {
        "8a19afe93697426a9b6db87b2a776883": {
          "model_module": "@jupyter-widgets/controls",
          "model_name": "HBoxModel",
          "model_module_version": "1.5.0",
          "state": {
            "_dom_classes": [],
            "_model_module": "@jupyter-widgets/controls",
            "_model_module_version": "1.5.0",
            "_model_name": "HBoxModel",
            "_view_count": null,
            "_view_module": "@jupyter-widgets/controls",
            "_view_module_version": "1.5.0",
            "_view_name": "HBoxView",
            "box_style": "",
            "children": [
              "IPY_MODEL_0fe364b3e4674583baa07f1041fd63d1",
              "IPY_MODEL_a420157bac5c428aac2159059f0b8e82",
              "IPY_MODEL_13c182d4f7dc4201880515399ece62be"
            ],
            "layout": "IPY_MODEL_79d99ca8a3c64577a2f8e0e4798a52bd"
          }
        },
        "0fe364b3e4674583baa07f1041fd63d1": {
          "model_module": "@jupyter-widgets/controls",
          "model_name": "HTMLModel",
          "model_module_version": "1.5.0",
          "state": {
            "_dom_classes": [],
            "_model_module": "@jupyter-widgets/controls",
            "_model_module_version": "1.5.0",
            "_model_name": "HTMLModel",
            "_view_count": null,
            "_view_module": "@jupyter-widgets/controls",
            "_view_module_version": "1.5.0",
            "_view_name": "HTMLView",
            "description": "",
            "description_tooltip": null,
            "layout": "IPY_MODEL_80aeb720a4674b1480e5f4d776710727",
            "placeholder": "​",
            "style": "IPY_MODEL_9d19ca68179b4831982d8c66e3163f08",
            "value": "Evaluating: 100%"
          }
        },
        "a420157bac5c428aac2159059f0b8e82": {
          "model_module": "@jupyter-widgets/controls",
          "model_name": "FloatProgressModel",
          "model_module_version": "1.5.0",
          "state": {
            "_dom_classes": [],
            "_model_module": "@jupyter-widgets/controls",
            "_model_module_version": "1.5.0",
            "_model_name": "FloatProgressModel",
            "_view_count": null,
            "_view_module": "@jupyter-widgets/controls",
            "_view_module_version": "1.5.0",
            "_view_name": "ProgressView",
            "bar_style": "success",
            "description": "",
            "description_tooltip": null,
            "layout": "IPY_MODEL_404a3ff3c62c4ae8ad7b268d6e758e64",
            "max": 40,
            "min": 0,
            "orientation": "horizontal",
            "style": "IPY_MODEL_ff3196a5925546c991b78fbe32d5567d",
            "value": 40
          }
        },
        "13c182d4f7dc4201880515399ece62be": {
          "model_module": "@jupyter-widgets/controls",
          "model_name": "HTMLModel",
          "model_module_version": "1.5.0",
          "state": {
            "_dom_classes": [],
            "_model_module": "@jupyter-widgets/controls",
            "_model_module_version": "1.5.0",
            "_model_name": "HTMLModel",
            "_view_count": null,
            "_view_module": "@jupyter-widgets/controls",
            "_view_module_version": "1.5.0",
            "_view_name": "HTMLView",
            "description": "",
            "description_tooltip": null,
            "layout": "IPY_MODEL_5ca56a1aafa245c28bf996a23566f0fc",
            "placeholder": "​",
            "style": "IPY_MODEL_60ce48cbe7b548b89dcb6c29ba4bc809",
            "value": " 40/40 [00:10&lt;00:00,  5.41it/s]"
          }
        },
        "79d99ca8a3c64577a2f8e0e4798a52bd": {
          "model_module": "@jupyter-widgets/base",
          "model_name": "LayoutModel",
          "model_module_version": "1.2.0",
          "state": {
            "_model_module": "@jupyter-widgets/base",
            "_model_module_version": "1.2.0",
            "_model_name": "LayoutModel",
            "_view_count": null,
            "_view_module": "@jupyter-widgets/base",
            "_view_module_version": "1.2.0",
            "_view_name": "LayoutView",
            "align_content": null,
            "align_items": null,
            "align_self": null,
            "border": null,
            "bottom": null,
            "display": null,
            "flex": null,
            "flex_flow": null,
            "grid_area": null,
            "grid_auto_columns": null,
            "grid_auto_flow": null,
            "grid_auto_rows": null,
            "grid_column": null,
            "grid_gap": null,
            "grid_row": null,
            "grid_template_areas": null,
            "grid_template_columns": null,
            "grid_template_rows": null,
            "height": null,
            "justify_content": null,
            "justify_items": null,
            "left": null,
            "margin": null,
            "max_height": null,
            "max_width": null,
            "min_height": null,
            "min_width": null,
            "object_fit": null,
            "object_position": null,
            "order": null,
            "overflow": null,
            "overflow_x": null,
            "overflow_y": null,
            "padding": null,
            "right": null,
            "top": null,
            "visibility": null,
            "width": null
          }
        },
        "80aeb720a4674b1480e5f4d776710727": {
          "model_module": "@jupyter-widgets/base",
          "model_name": "LayoutModel",
          "model_module_version": "1.2.0",
          "state": {
            "_model_module": "@jupyter-widgets/base",
            "_model_module_version": "1.2.0",
            "_model_name": "LayoutModel",
            "_view_count": null,
            "_view_module": "@jupyter-widgets/base",
            "_view_module_version": "1.2.0",
            "_view_name": "LayoutView",
            "align_content": null,
            "align_items": null,
            "align_self": null,
            "border": null,
            "bottom": null,
            "display": null,
            "flex": null,
            "flex_flow": null,
            "grid_area": null,
            "grid_auto_columns": null,
            "grid_auto_flow": null,
            "grid_auto_rows": null,
            "grid_column": null,
            "grid_gap": null,
            "grid_row": null,
            "grid_template_areas": null,
            "grid_template_columns": null,
            "grid_template_rows": null,
            "height": null,
            "justify_content": null,
            "justify_items": null,
            "left": null,
            "margin": null,
            "max_height": null,
            "max_width": null,
            "min_height": null,
            "min_width": null,
            "object_fit": null,
            "object_position": null,
            "order": null,
            "overflow": null,
            "overflow_x": null,
            "overflow_y": null,
            "padding": null,
            "right": null,
            "top": null,
            "visibility": null,
            "width": null
          }
        },
        "9d19ca68179b4831982d8c66e3163f08": {
          "model_module": "@jupyter-widgets/controls",
          "model_name": "DescriptionStyleModel",
          "model_module_version": "1.5.0",
          "state": {
            "_model_module": "@jupyter-widgets/controls",
            "_model_module_version": "1.5.0",
            "_model_name": "DescriptionStyleModel",
            "_view_count": null,
            "_view_module": "@jupyter-widgets/base",
            "_view_module_version": "1.2.0",
            "_view_name": "StyleView",
            "description_width": ""
          }
        },
        "404a3ff3c62c4ae8ad7b268d6e758e64": {
          "model_module": "@jupyter-widgets/base",
          "model_name": "LayoutModel",
          "model_module_version": "1.2.0",
          "state": {
            "_model_module": "@jupyter-widgets/base",
            "_model_module_version": "1.2.0",
            "_model_name": "LayoutModel",
            "_view_count": null,
            "_view_module": "@jupyter-widgets/base",
            "_view_module_version": "1.2.0",
            "_view_name": "LayoutView",
            "align_content": null,
            "align_items": null,
            "align_self": null,
            "border": null,
            "bottom": null,
            "display": null,
            "flex": null,
            "flex_flow": null,
            "grid_area": null,
            "grid_auto_columns": null,
            "grid_auto_flow": null,
            "grid_auto_rows": null,
            "grid_column": null,
            "grid_gap": null,
            "grid_row": null,
            "grid_template_areas": null,
            "grid_template_columns": null,
            "grid_template_rows": null,
            "height": null,
            "justify_content": null,
            "justify_items": null,
            "left": null,
            "margin": null,
            "max_height": null,
            "max_width": null,
            "min_height": null,
            "min_width": null,
            "object_fit": null,
            "object_position": null,
            "order": null,
            "overflow": null,
            "overflow_x": null,
            "overflow_y": null,
            "padding": null,
            "right": null,
            "top": null,
            "visibility": null,
            "width": null
          }
        },
        "ff3196a5925546c991b78fbe32d5567d": {
          "model_module": "@jupyter-widgets/controls",
          "model_name": "ProgressStyleModel",
          "model_module_version": "1.5.0",
          "state": {
            "_model_module": "@jupyter-widgets/controls",
            "_model_module_version": "1.5.0",
            "_model_name": "ProgressStyleModel",
            "_view_count": null,
            "_view_module": "@jupyter-widgets/base",
            "_view_module_version": "1.2.0",
            "_view_name": "StyleView",
            "bar_color": null,
            "description_width": ""
          }
        },
        "5ca56a1aafa245c28bf996a23566f0fc": {
          "model_module": "@jupyter-widgets/base",
          "model_name": "LayoutModel",
          "model_module_version": "1.2.0",
          "state": {
            "_model_module": "@jupyter-widgets/base",
            "_model_module_version": "1.2.0",
            "_model_name": "LayoutModel",
            "_view_count": null,
            "_view_module": "@jupyter-widgets/base",
            "_view_module_version": "1.2.0",
            "_view_name": "LayoutView",
            "align_content": null,
            "align_items": null,
            "align_self": null,
            "border": null,
            "bottom": null,
            "display": null,
            "flex": null,
            "flex_flow": null,
            "grid_area": null,
            "grid_auto_columns": null,
            "grid_auto_flow": null,
            "grid_auto_rows": null,
            "grid_column": null,
            "grid_gap": null,
            "grid_row": null,
            "grid_template_areas": null,
            "grid_template_columns": null,
            "grid_template_rows": null,
            "height": null,
            "justify_content": null,
            "justify_items": null,
            "left": null,
            "margin": null,
            "max_height": null,
            "max_width": null,
            "min_height": null,
            "min_width": null,
            "object_fit": null,
            "object_position": null,
            "order": null,
            "overflow": null,
            "overflow_x": null,
            "overflow_y": null,
            "padding": null,
            "right": null,
            "top": null,
            "visibility": null,
            "width": null
          }
        },
        "60ce48cbe7b548b89dcb6c29ba4bc809": {
          "model_module": "@jupyter-widgets/controls",
          "model_name": "DescriptionStyleModel",
          "model_module_version": "1.5.0",
          "state": {
            "_model_module": "@jupyter-widgets/controls",
            "_model_module_version": "1.5.0",
            "_model_name": "DescriptionStyleModel",
            "_view_count": null,
            "_view_module": "@jupyter-widgets/base",
            "_view_module_version": "1.2.0",
            "_view_name": "StyleView",
            "description_width": ""
          }
        },
        "ac277b34e68d448c8ed089cdf9288152": {
          "model_module": "@jupyter-widgets/controls",
          "model_name": "HBoxModel",
          "model_module_version": "1.5.0",
          "state": {
            "_dom_classes": [],
            "_model_module": "@jupyter-widgets/controls",
            "_model_module_version": "1.5.0",
            "_model_name": "HBoxModel",
            "_view_count": null,
            "_view_module": "@jupyter-widgets/controls",
            "_view_module_version": "1.5.0",
            "_view_name": "HBoxView",
            "box_style": "",
            "children": [
              "IPY_MODEL_de0bd542974e406e9611f34bb8497c98",
              "IPY_MODEL_fb08083b3d7e43ad82a249d4252aa1e0",
              "IPY_MODEL_b01430e74f3b4d17b216245b863fbbdc"
            ],
            "layout": "IPY_MODEL_488b54780d914474b12deb779a38bd10"
          }
        },
        "de0bd542974e406e9611f34bb8497c98": {
          "model_module": "@jupyter-widgets/controls",
          "model_name": "HTMLModel",
          "model_module_version": "1.5.0",
          "state": {
            "_dom_classes": [],
            "_model_module": "@jupyter-widgets/controls",
            "_model_module_version": "1.5.0",
            "_model_name": "HTMLModel",
            "_view_count": null,
            "_view_module": "@jupyter-widgets/controls",
            "_view_module_version": "1.5.0",
            "_view_name": "HTMLView",
            "description": "",
            "description_tooltip": null,
            "layout": "IPY_MODEL_f72cf29db9a44bd9a44a1e7bd3609241",
            "placeholder": "​",
            "style": "IPY_MODEL_4d986213a7eb409f97bd27131299b176",
            "value": "Evaluating: 100%"
          }
        },
        "fb08083b3d7e43ad82a249d4252aa1e0": {
          "model_module": "@jupyter-widgets/controls",
          "model_name": "FloatProgressModel",
          "model_module_version": "1.5.0",
          "state": {
            "_dom_classes": [],
            "_model_module": "@jupyter-widgets/controls",
            "_model_module_version": "1.5.0",
            "_model_name": "FloatProgressModel",
            "_view_count": null,
            "_view_module": "@jupyter-widgets/controls",
            "_view_module_version": "1.5.0",
            "_view_name": "ProgressView",
            "bar_style": "success",
            "description": "",
            "description_tooltip": null,
            "layout": "IPY_MODEL_b5d892f3cc1240b892d311cd7d6e42c5",
            "max": 40,
            "min": 0,
            "orientation": "horizontal",
            "style": "IPY_MODEL_c7cb700b8af04fe7a8eb0c821df85cc8",
            "value": 40
          }
        },
        "b01430e74f3b4d17b216245b863fbbdc": {
          "model_module": "@jupyter-widgets/controls",
          "model_name": "HTMLModel",
          "model_module_version": "1.5.0",
          "state": {
            "_dom_classes": [],
            "_model_module": "@jupyter-widgets/controls",
            "_model_module_version": "1.5.0",
            "_model_name": "HTMLModel",
            "_view_count": null,
            "_view_module": "@jupyter-widgets/controls",
            "_view_module_version": "1.5.0",
            "_view_name": "HTMLView",
            "description": "",
            "description_tooltip": null,
            "layout": "IPY_MODEL_b08a5804356643839b391ab312d76f9d",
            "placeholder": "​",
            "style": "IPY_MODEL_12dd71a66b2b46dfa5fe41bfc5433d87",
            "value": " 40/40 [00:10&lt;00:00,  3.92it/s]"
          }
        },
        "488b54780d914474b12deb779a38bd10": {
          "model_module": "@jupyter-widgets/base",
          "model_name": "LayoutModel",
          "model_module_version": "1.2.0",
          "state": {
            "_model_module": "@jupyter-widgets/base",
            "_model_module_version": "1.2.0",
            "_model_name": "LayoutModel",
            "_view_count": null,
            "_view_module": "@jupyter-widgets/base",
            "_view_module_version": "1.2.0",
            "_view_name": "LayoutView",
            "align_content": null,
            "align_items": null,
            "align_self": null,
            "border": null,
            "bottom": null,
            "display": null,
            "flex": null,
            "flex_flow": null,
            "grid_area": null,
            "grid_auto_columns": null,
            "grid_auto_flow": null,
            "grid_auto_rows": null,
            "grid_column": null,
            "grid_gap": null,
            "grid_row": null,
            "grid_template_areas": null,
            "grid_template_columns": null,
            "grid_template_rows": null,
            "height": null,
            "justify_content": null,
            "justify_items": null,
            "left": null,
            "margin": null,
            "max_height": null,
            "max_width": null,
            "min_height": null,
            "min_width": null,
            "object_fit": null,
            "object_position": null,
            "order": null,
            "overflow": null,
            "overflow_x": null,
            "overflow_y": null,
            "padding": null,
            "right": null,
            "top": null,
            "visibility": null,
            "width": null
          }
        },
        "f72cf29db9a44bd9a44a1e7bd3609241": {
          "model_module": "@jupyter-widgets/base",
          "model_name": "LayoutModel",
          "model_module_version": "1.2.0",
          "state": {
            "_model_module": "@jupyter-widgets/base",
            "_model_module_version": "1.2.0",
            "_model_name": "LayoutModel",
            "_view_count": null,
            "_view_module": "@jupyter-widgets/base",
            "_view_module_version": "1.2.0",
            "_view_name": "LayoutView",
            "align_content": null,
            "align_items": null,
            "align_self": null,
            "border": null,
            "bottom": null,
            "display": null,
            "flex": null,
            "flex_flow": null,
            "grid_area": null,
            "grid_auto_columns": null,
            "grid_auto_flow": null,
            "grid_auto_rows": null,
            "grid_column": null,
            "grid_gap": null,
            "grid_row": null,
            "grid_template_areas": null,
            "grid_template_columns": null,
            "grid_template_rows": null,
            "height": null,
            "justify_content": null,
            "justify_items": null,
            "left": null,
            "margin": null,
            "max_height": null,
            "max_width": null,
            "min_height": null,
            "min_width": null,
            "object_fit": null,
            "object_position": null,
            "order": null,
            "overflow": null,
            "overflow_x": null,
            "overflow_y": null,
            "padding": null,
            "right": null,
            "top": null,
            "visibility": null,
            "width": null
          }
        },
        "4d986213a7eb409f97bd27131299b176": {
          "model_module": "@jupyter-widgets/controls",
          "model_name": "DescriptionStyleModel",
          "model_module_version": "1.5.0",
          "state": {
            "_model_module": "@jupyter-widgets/controls",
            "_model_module_version": "1.5.0",
            "_model_name": "DescriptionStyleModel",
            "_view_count": null,
            "_view_module": "@jupyter-widgets/base",
            "_view_module_version": "1.2.0",
            "_view_name": "StyleView",
            "description_width": ""
          }
        },
        "b5d892f3cc1240b892d311cd7d6e42c5": {
          "model_module": "@jupyter-widgets/base",
          "model_name": "LayoutModel",
          "model_module_version": "1.2.0",
          "state": {
            "_model_module": "@jupyter-widgets/base",
            "_model_module_version": "1.2.0",
            "_model_name": "LayoutModel",
            "_view_count": null,
            "_view_module": "@jupyter-widgets/base",
            "_view_module_version": "1.2.0",
            "_view_name": "LayoutView",
            "align_content": null,
            "align_items": null,
            "align_self": null,
            "border": null,
            "bottom": null,
            "display": null,
            "flex": null,
            "flex_flow": null,
            "grid_area": null,
            "grid_auto_columns": null,
            "grid_auto_flow": null,
            "grid_auto_rows": null,
            "grid_column": null,
            "grid_gap": null,
            "grid_row": null,
            "grid_template_areas": null,
            "grid_template_columns": null,
            "grid_template_rows": null,
            "height": null,
            "justify_content": null,
            "justify_items": null,
            "left": null,
            "margin": null,
            "max_height": null,
            "max_width": null,
            "min_height": null,
            "min_width": null,
            "object_fit": null,
            "object_position": null,
            "order": null,
            "overflow": null,
            "overflow_x": null,
            "overflow_y": null,
            "padding": null,
            "right": null,
            "top": null,
            "visibility": null,
            "width": null
          }
        },
        "c7cb700b8af04fe7a8eb0c821df85cc8": {
          "model_module": "@jupyter-widgets/controls",
          "model_name": "ProgressStyleModel",
          "model_module_version": "1.5.0",
          "state": {
            "_model_module": "@jupyter-widgets/controls",
            "_model_module_version": "1.5.0",
            "_model_name": "ProgressStyleModel",
            "_view_count": null,
            "_view_module": "@jupyter-widgets/base",
            "_view_module_version": "1.2.0",
            "_view_name": "StyleView",
            "bar_color": null,
            "description_width": ""
          }
        },
        "b08a5804356643839b391ab312d76f9d": {
          "model_module": "@jupyter-widgets/base",
          "model_name": "LayoutModel",
          "model_module_version": "1.2.0",
          "state": {
            "_model_module": "@jupyter-widgets/base",
            "_model_module_version": "1.2.0",
            "_model_name": "LayoutModel",
            "_view_count": null,
            "_view_module": "@jupyter-widgets/base",
            "_view_module_version": "1.2.0",
            "_view_name": "LayoutView",
            "align_content": null,
            "align_items": null,
            "align_self": null,
            "border": null,
            "bottom": null,
            "display": null,
            "flex": null,
            "flex_flow": null,
            "grid_area": null,
            "grid_auto_columns": null,
            "grid_auto_flow": null,
            "grid_auto_rows": null,
            "grid_column": null,
            "grid_gap": null,
            "grid_row": null,
            "grid_template_areas": null,
            "grid_template_columns": null,
            "grid_template_rows": null,
            "height": null,
            "justify_content": null,
            "justify_items": null,
            "left": null,
            "margin": null,
            "max_height": null,
            "max_width": null,
            "min_height": null,
            "min_width": null,
            "object_fit": null,
            "object_position": null,
            "order": null,
            "overflow": null,
            "overflow_x": null,
            "overflow_y": null,
            "padding": null,
            "right": null,
            "top": null,
            "visibility": null,
            "width": null
          }
        },
        "12dd71a66b2b46dfa5fe41bfc5433d87": {
          "model_module": "@jupyter-widgets/controls",
          "model_name": "DescriptionStyleModel",
          "model_module_version": "1.5.0",
          "state": {
            "_model_module": "@jupyter-widgets/controls",
            "_model_module_version": "1.5.0",
            "_model_name": "DescriptionStyleModel",
            "_view_count": null,
            "_view_module": "@jupyter-widgets/base",
            "_view_module_version": "1.2.0",
            "_view_name": "StyleView",
            "description_width": ""
          }
        }
      }
    }
  },
  "cells": [
    {
      "cell_type": "markdown",
      "source": [
        "# Semantic Chunking with LangChain!\n",
        "\n",
        "Today we'll be exploring Semantic Chunking!\n",
        "\n",
        "Let's first grab the dependencies we'll be using to explore what Semantic Chunking is - and why it's useful!"
      ],
      "metadata": {
        "id": "5e7w3Lcl0J8X"
      }
    },
    {
      "cell_type": "code",
      "execution_count": null,
      "metadata": {
        "colab": {
          "base_uri": "https://localhost:8080/"
        },
        "id": "BFIF7UG2S5SA",
        "outputId": "ce9a8a8e-7f43-46d5-f436-98a5ebd960e6"
      },
      "outputs": [
        {
          "output_type": "stream",
          "name": "stdout",
          "text": [
            "\u001b[2K     \u001b[90m━━━━━━━━━━━━━━━━━━━━━━━━━━━━━━━━━━━━━━━━\u001b[0m \u001b[32m177.6/177.6 kB\u001b[0m \u001b[31m1.5 MB/s\u001b[0m eta \u001b[36m0:00:00\u001b[0m\n",
            "\u001b[2K     \u001b[90m━━━━━━━━━━━━━━━━━━━━━━━━━━━━━━━━━━━━━━━━\u001b[0m \u001b[32m1.8/1.8 MB\u001b[0m \u001b[31m18.1 MB/s\u001b[0m eta \u001b[36m0:00:00\u001b[0m\n",
            "\u001b[2K     \u001b[90m━━━━━━━━━━━━━━━━━━━━━━━━━━━━━━━━━━━━━━━━\u001b[0m \u001b[32m810.5/810.5 kB\u001b[0m \u001b[31m15.6 MB/s\u001b[0m eta \u001b[36m0:00:00\u001b[0m\n",
            "\u001b[2K     \u001b[90m━━━━━━━━━━━━━━━━━━━━━━━━━━━━━━━━━━━━━━━━\u001b[0m \u001b[32m73.5/73.5 kB\u001b[0m \u001b[31m2.6 MB/s\u001b[0m eta \u001b[36m0:00:00\u001b[0m\n",
            "\u001b[2K     \u001b[90m━━━━━━━━━━━━━━━━━━━━━━━━━━━━━━━━━━━━━━━━\u001b[0m \u001b[32m271.6/271.6 kB\u001b[0m \u001b[31m7.6 MB/s\u001b[0m eta \u001b[36m0:00:00\u001b[0m\n",
            "\u001b[2K     \u001b[90m━━━━━━━━━━━━━━━━━━━━━━━━━━━━━━━━━━━━━━━━\u001b[0m \u001b[32m262.9/262.9 kB\u001b[0m \u001b[31m6.9 MB/s\u001b[0m eta \u001b[36m0:00:00\u001b[0m\n",
            "\u001b[2K     \u001b[90m━━━━━━━━━━━━━━━━━━━━━━━━━━━━━━━━━━━━━━━━\u001b[0m \u001b[32m1.8/1.8 MB\u001b[0m \u001b[31m37.5 MB/s\u001b[0m eta \u001b[36m0:00:00\u001b[0m\n",
            "\u001b[2K     \u001b[90m━━━━━━━━━━━━━━━━━━━━━━━━━━━━━━━━━━━━━━━━\u001b[0m \u001b[32m86.6/86.6 kB\u001b[0m \u001b[31m6.9 MB/s\u001b[0m eta \u001b[36m0:00:00\u001b[0m\n",
            "\u001b[2K     \u001b[90m━━━━━━━━━━━━━━━━━━━━━━━━━━━━━━━━━━━━━━━━\u001b[0m \u001b[32m510.5/510.5 kB\u001b[0m \u001b[31m15.7 MB/s\u001b[0m eta \u001b[36m0:00:00\u001b[0m\n",
            "\u001b[2K     \u001b[90m━━━━━━━━━━━━━━━━━━━━━━━━━━━━━━━━━━━━━━━━\u001b[0m \u001b[32m71.1/71.1 kB\u001b[0m \u001b[31m6.6 MB/s\u001b[0m eta \u001b[36m0:00:00\u001b[0m\n",
            "\u001b[2K     \u001b[90m━━━━━━━━━━━━━━━━━━━━━━━━━━━━━━━━━━━━━━━━\u001b[0m \u001b[32m49.4/49.4 kB\u001b[0m \u001b[31m3.7 MB/s\u001b[0m eta \u001b[36m0:00:00\u001b[0m\n",
            "\u001b[2K     \u001b[90m━━━━━━━━━━━━━━━━━━━━━━━━━━━━━━━━━━━━━━━━\u001b[0m \u001b[32m53.0/53.0 kB\u001b[0m \u001b[31m4.7 MB/s\u001b[0m eta \u001b[36m0:00:00\u001b[0m\n",
            "\u001b[2K     \u001b[90m━━━━━━━━━━━━━━━━━━━━━━━━━━━━━━━━━━━━━━━━\u001b[0m \u001b[32m138.5/138.5 kB\u001b[0m \u001b[31m3.4 MB/s\u001b[0m eta \u001b[36m0:00:00\u001b[0m\n",
            "\u001b[2K     \u001b[90m━━━━━━━━━━━━━━━━━━━━━━━━━━━━━━━━━━━━━━━━\u001b[0m \u001b[32m75.6/75.6 kB\u001b[0m \u001b[31m2.7 MB/s\u001b[0m eta \u001b[36m0:00:00\u001b[0m\n",
            "\u001b[2K     \u001b[90m━━━━━━━━━━━━━━━━━━━━━━━━━━━━━━━━━━━━━━━━\u001b[0m \u001b[32m116.3/116.3 kB\u001b[0m \u001b[31m6.3 MB/s\u001b[0m eta \u001b[36m0:00:00\u001b[0m\n",
            "\u001b[2K     \u001b[90m━━━━━━━━━━━━━━━━━━━━━━━━━━━━━━━━━━━━━━━━\u001b[0m \u001b[32m194.1/194.1 kB\u001b[0m \u001b[31m8.3 MB/s\u001b[0m eta \u001b[36m0:00:00\u001b[0m\n",
            "\u001b[2K     \u001b[90m━━━━━━━━━━━━━━━━━━━━━━━━━━━━━━━━━━━━━━━━\u001b[0m \u001b[32m134.8/134.8 kB\u001b[0m \u001b[31m11.1 MB/s\u001b[0m eta \u001b[36m0:00:00\u001b[0m\n",
            "\u001b[2K     \u001b[90m━━━━━━━━━━━━━━━━━━━━━━━━━━━━━━━━━━━━━━━━\u001b[0m \u001b[32m77.8/77.8 kB\u001b[0m \u001b[31m3.9 MB/s\u001b[0m eta \u001b[36m0:00:00\u001b[0m\n",
            "\u001b[2K     \u001b[90m━━━━━━━━━━━━━━━━━━━━━━━━━━━━━━━━━━━━━━━━\u001b[0m \u001b[32m58.3/58.3 kB\u001b[0m \u001b[31m4.2 MB/s\u001b[0m eta \u001b[36m0:00:00\u001b[0m\n",
            "\u001b[?25h"
          ]
        }
      ],
      "source": [
        "!pip install -qU langchain_experimental langchain_openai langchain_community langchain ragas"
      ]
    },
    {
      "cell_type": "code",
      "source": [
        "!pip install -qU faiss-cpu tiktoken"
      ],
      "metadata": {
        "colab": {
          "base_uri": "https://localhost:8080/"
        },
        "id": "vqnY2Mybfxbp",
        "outputId": "7d3da871-b558-4eb7-b628-5f911210a3d6"
      },
      "execution_count": null,
      "outputs": [
        {
          "output_type": "stream",
          "name": "stdout",
          "text": [
            "\u001b[2K     \u001b[90m━━━━━━━━━━━━━━━━━━━━━━━━━━━━━━━━━━━━━━━━\u001b[0m \u001b[32m27.0/27.0 MB\u001b[0m \u001b[31m30.4 MB/s\u001b[0m eta \u001b[36m0:00:00\u001b[0m\n",
            "\u001b[?25h"
          ]
        }
      ]
    },
    {
      "cell_type": "markdown",
      "source": [
        "Today we'll be working with \"Alice and Wonderland\" as our source material - let's grab it and load it into memory."
      ],
      "metadata": {
        "id": "KHOZSV522COR"
      }
    },
    {
      "cell_type": "code",
      "source": [
        "!wget https://www.gutenberg.org/files/11/11-0.txt -O alice.txt"
      ],
      "metadata": {
        "colab": {
          "base_uri": "https://localhost:8080/"
        },
        "id": "RmaE2Z9Mbbix",
        "outputId": "6a9830c6-48f9-4a7e-a3c6-b81d6a93aedf"
      },
      "execution_count": null,
      "outputs": [
        {
          "output_type": "stream",
          "name": "stdout",
          "text": [
            "--2024-03-27 15:01:37--  https://www.gutenberg.org/files/11/11-0.txt\n",
            "Resolving www.gutenberg.org (www.gutenberg.org)... 152.19.134.47, 2610:28:3090:3000:0:bad:cafe:47\n",
            "Connecting to www.gutenberg.org (www.gutenberg.org)|152.19.134.47|:443... connected.\n",
            "HTTP request sent, awaiting response... 200 OK\n",
            "Length: 154638 (151K) [text/plain]\n",
            "Saving to: ‘alice.txt’\n",
            "\n",
            "\ralice.txt             0%[                    ]       0  --.-KB/s               \ralice.txt           100%[===================>] 151.01K  --.-KB/s    in 0.05s   \n",
            "\n",
            "2024-03-27 15:01:37 (3.14 MB/s) - ‘alice.txt’ saved [154638/154638]\n",
            "\n"
          ]
        }
      ]
    },
    {
      "cell_type": "code",
      "source": [
        "with open(\"./alice.txt\") as f:\n",
        "  alice_in_wonderland = f.read()"
      ],
      "metadata": {
        "id": "7tGzjsEhcJgX"
      },
      "execution_count": null,
      "outputs": []
    },
    {
      "cell_type": "markdown",
      "source": [
        "## RecursiveCharacterTextSplitter AKA \"Naive Chunking\"\n",
        "\n",
        "Let's look at our documents if we use a traditional non-semantic chunking strategy!\n",
        "\n",
        "> NOTE: The chunk size chosen here is purely for illustrative purposes."
      ],
      "metadata": {
        "id": "z3Y0H2fx2Sd3"
      }
    },
    {
      "cell_type": "code",
      "source": [
        "from langchain.text_splitter import RecursiveCharacterTextSplitter\n",
        "\n",
        "text_splitter = RecursiveCharacterTextSplitter(\n",
        "    chunk_size=200,\n",
        "    chunk_overlap=0,\n",
        "    length_function=len,\n",
        "    is_separator_regex=False\n",
        ")"
      ],
      "metadata": {
        "id": "AEFTjiyHbdim"
      },
      "execution_count": null,
      "outputs": []
    },
    {
      "cell_type": "code",
      "source": [
        "naive_chunks = text_splitter.split_text(alice_in_wonderland)"
      ],
      "metadata": {
        "id": "vLrEftzob8_r"
      },
      "execution_count": null,
      "outputs": []
    },
    {
      "cell_type": "code",
      "source": [
        "for chunk in naive_chunks[10:15]:\n",
        "  print(chunk + \"\\n\")"
      ],
      "metadata": {
        "colab": {
          "base_uri": "https://localhost:8080/"
        },
        "id": "Kov5hAYTcQZr",
        "outputId": "2a563bdd-6de2-4856-f5d9-acd0b87b88ac"
      },
      "execution_count": null,
      "outputs": [
        {
          "output_type": "stream",
          "name": "stdout",
          "text": [
            "dear! Oh dear! I shall be late!” (when she thought it over afterwards,\n",
            "it occurred to her that she ought to have wondered at this, but at the\n",
            "\n",
            "time it all seemed quite natural); but when the Rabbit actually _took a\n",
            "watch out of its waistcoat-pocket_, and looked at it, and then hurried\n",
            "\n",
            "on, Alice started to her feet, for it flashed across her mind that she\n",
            "had never before seen a rabbit with either a waistcoat-pocket, or a\n",
            "\n",
            "watch to take out of it, and burning with curiosity, she ran across the\n",
            "field after it, and fortunately was just in time to see it pop down a\n",
            "large rabbit-hole under the hedge.\n",
            "\n",
            "In another moment down went Alice after it, never once considering how\n",
            "in the world she was to get out again.\n",
            "\n"
          ]
        }
      ]
    },
    {
      "cell_type": "markdown",
      "source": [
        "Notice how our chunks wind up split across sentences, and we have similar context split across chunks as well.\n",
        "\n",
        "We could use a number of awesome strategies to counter this problem - but we're going to focus on Semantic Chunking today!"
      ],
      "metadata": {
        "id": "bMNhSf5L25Gp"
      }
    },
    {
      "cell_type": "markdown",
      "source": [
        "## Semantic Chunking\n",
        "\n",
        "Let's start by providing our OpenAI API key - which will be required for the specific example used in this notebook.\n",
        "\n",
        "> NOTE: You could substitute this for any embedding process. The better the embedding method - the better the results should be!"
      ],
      "metadata": {
        "id": "sYvgnrkT3b-Q"
      }
    },
    {
      "cell_type": "code",
      "source": [
        "import os\n",
        "import getpass\n",
        "\n",
        "os.environ[\"OPENAI_API_KEY\"] = getpass.getpass(\"Enter your OpenAI API Key:\")"
      ],
      "metadata": {
        "colab": {
          "base_uri": "https://localhost:8080/"
        },
        "id": "wihQ77IxdDSt",
        "outputId": "a77e369c-f6f2-44fc-9f00-b5889c9fa87d"
      },
      "execution_count": null,
      "outputs": [
        {
          "name": "stdout",
          "output_type": "stream",
          "text": [
            "Enter your OpenAI API Key:··········\n"
          ]
        }
      ]
    },
    {
      "cell_type": "markdown",
      "source": [
        "Now let's implement the `SemanticChunker`!\n",
        "\n",
        "We're going to be using the `percentile` threshold as an example today - but there's three different strategies you could use (descriptions provided by the [LangChain docs](https://python.langchain.com/docs/modules/data_connection/document_transformers/semantic-chunker) on Semantic Chunking):\n",
        "\n",
        "- `percentile` (default) - In this method, all differences between sentences are calculated, and then any difference greater than the X percentile is split.\n",
        "\n",
        "- `standard_deviation` - In this method, any difference greater than X standard deviations is split.\n",
        "\n",
        "- `interquartile` - In this method, the interquartile distance is used to split chunks.\n",
        "\n",
        "The basic idea is as follows:\n",
        "\n",
        "1. Split our document into sentences (based on `.`, `?`, and `!`)\n",
        "2. Index each sentence based on position\n",
        "3. Add a `buffer_size` (`int`) of sentences on either side of our selected sentence\n",
        "4. Calculate distances between groups of sentences\n",
        "5. Merge groups based on similarity based on the above thresholds\n",
        "\n",
        "> NOTE: This method is currently experimental and is not in a stable final form - expect updates and improvements in the coming months\n",
        "\n"
      ],
      "metadata": {
        "id": "Y6ChDQOz3pH3"
      }
    },
    {
      "cell_type": "code",
      "source": [
        "from langchain_experimental.text_splitter import SemanticChunker\n",
        "from langchain_openai.embeddings import OpenAIEmbeddings\n",
        "\n",
        "semantic_chunker = SemanticChunker(OpenAIEmbeddings(model=\"text-embedding-3-large\"), breakpoint_threshold_type=\"percentile\")"
      ],
      "metadata": {
        "id": "adz4gyEgcvAc"
      },
      "execution_count": null,
      "outputs": []
    },
    {
      "cell_type": "markdown",
      "source": [
        "Now we can create our documents."
      ],
      "metadata": {
        "id": "39NvTTFT4LtQ"
      }
    },
    {
      "cell_type": "code",
      "source": [
        "semantic_chunks = semantic_chunker.create_documents([alice_in_wonderland])"
      ],
      "metadata": {
        "id": "Hwy45Au7dPX_"
      },
      "execution_count": null,
      "outputs": []
    },
    {
      "cell_type": "markdown",
      "source": [
        "Let's look at the chunk associated with the above naive chunks.\n",
        "\n",
        "Notice how much more information is retained and included in each chunk.\n",
        "\n",
        "Also notice how much larger this chunk is!"
      ],
      "metadata": {
        "id": "3tX_XW1e5Fp6"
      }
    },
    {
      "cell_type": "code",
      "source": [
        "for semantic_chunk in semantic_chunks:\n",
        "  if \"waistcoat-pocket_\" in semantic_chunk.page_content:\n",
        "    print(semantic_chunk.page_content)\n",
        "    print(len(semantic_chunk.page_content))"
      ],
      "metadata": {
        "colab": {
          "base_uri": "https://localhost:8080/"
        },
        "id": "k66nWfvOdaI-",
        "outputId": "3f1ec2cd-f96b-4e0f-fc29-b629a7bd0b75"
      },
      "execution_count": null,
      "outputs": [
        {
          "output_type": "stream",
          "name": "stdout",
          "text": [
            "*** START OF THE PROJECT GUTENBERG EBOOK ALICE'S ADVENTURES IN\n",
            "WONDERLAND ***\n",
            "[Illustration]\n",
            "\n",
            "\n",
            "\n",
            "\n",
            "Alice’s Adventures in Wonderland\n",
            "\n",
            "by Lewis Carroll\n",
            "\n",
            "THE MILLENNIUM FULCRUM EDITION 3.0\n",
            "\n",
            "Contents\n",
            "\n",
            " CHAPTER I. Down the Rabbit-Hole\n",
            " CHAPTER II. The Pool of Tears\n",
            " CHAPTER III. A Caucus-Race and a Long Tale\n",
            " CHAPTER IV. The Rabbit Sends in a Little Bill\n",
            " CHAPTER V. Advice from a Caterpillar\n",
            " CHAPTER VI. Pig and Pepper\n",
            " CHAPTER VII. A Mad Tea-Party\n",
            " CHAPTER VIII. The Queen’s Croquet-Ground\n",
            " CHAPTER IX. The Mock Turtle’s Story\n",
            " CHAPTER X. The Lobster Quadrille\n",
            " CHAPTER XI. Who Stole the Tarts? CHAPTER XII. Alice’s Evidence\n",
            "\n",
            "\n",
            "\n",
            "\n",
            "CHAPTER I. Down the Rabbit-Hole\n",
            "\n",
            "\n",
            "Alice was beginning to get very tired of sitting by her sister on the\n",
            "bank, and of having nothing to do: once or twice she had peeped into\n",
            "the book her sister was reading, but it had no pictures or\n",
            "conversations in it, “and what is the use of a book,” thought Alice\n",
            "“without pictures or conversations?”\n",
            "\n",
            "So she was considering in her own mind (as well as she could, for the\n",
            "hot day made her feel very sleepy and stupid), whether the pleasure of\n",
            "making a daisy-chain would be worth the trouble of getting up and\n",
            "picking the daisies, when suddenly a White Rabbit with pink eyes ran\n",
            "close by her. There was nothing so _very_ remarkable in that; nor did Alice think it\n",
            "so _very_ much out of the way to hear the Rabbit say to itself, “Oh\n",
            "dear! Oh dear! I shall be late!” (when she thought it over afterwards,\n",
            "it occurred to her that she ought to have wondered at this, but at the\n",
            "time it all seemed quite natural); but when the Rabbit actually _took a\n",
            "watch out of its waistcoat-pocket_, and looked at it, and then hurried\n",
            "on, Alice started to her feet, for it flashed across her mind that she\n",
            "had never before seen a rabbit with either a waistcoat-pocket, or a\n",
            "watch to take out of it, and burning with curiosity, she ran across the\n",
            "field after it, and fortunately was just in time to see it pop down a\n",
            "large rabbit-hole under the hedge. In another moment down went Alice after it, never once considering how\n",
            "in the world she was to get out again. The rabbit-hole went straight on like a tunnel for some way, and then\n",
            "dipped suddenly down, so suddenly that Alice had not a moment to think\n",
            "about stopping herself before she found herself falling down a very\n",
            "deep well. Either the well was very deep, or she fell very slowly, for she had\n",
            "plenty of time as she went down to look about her and to wonder what\n",
            "was going to happen next. First, she tried to look down and make out\n",
            "what she was coming to, but it was too dark to see anything; then she\n",
            "looked at the sides of the well, and noticed that they were filled with\n",
            "cupboards and book-shelves; here and there she saw maps and pictures\n",
            "hung upon pegs. She took down a jar from one of the shelves as she\n",
            "passed; it was labelled “ORANGE MARMALADE”, but to her great\n",
            "disappointment it was empty: she did not like to drop the jar for fear\n",
            "of killing somebody underneath, so managed to put it into one of the\n",
            "cupboards as she fell past it. “Well!” thought Alice to herself, “after such a fall as this, I shall\n",
            "think nothing of tumbling down stairs! How brave they’ll all think me\n",
            "at home! Why, I wouldn’t say anything about it, even if I fell off the\n",
            "top of the house!” (Which was very likely true.)\n",
            "\n",
            "Down, down, down. Would the fall _never_ come to an end? “I wonder how\n",
            "many miles I’ve fallen by this time?” she said aloud. “I must be\n",
            "getting somewhere near the centre of the earth. Let me see: that would\n",
            "be four thousand miles down, I think—” (for, you see, Alice had learnt\n",
            "several things of this sort in her lessons in the schoolroom, and\n",
            "though this was not a _very_ good opportunity for showing off her\n",
            "knowledge, as there was no one to listen to her, still it was good\n",
            "practice to say it over) “—yes, that’s about the right distance—but\n",
            "then I wonder what Latitude or Longitude I’ve got to?” (Alice had no\n",
            "idea what Latitude was, or Longitude either, but thought they were nice\n",
            "grand words to say.)\n",
            "\n",
            "Presently she began again. “I wonder if I shall fall right _through_\n",
            "the earth! How funny it’ll seem to come out among the people that walk\n",
            "with their heads downward! The Antipathies, I think—” (she was rather\n",
            "glad there _was_ no one listening, this time, as it didn’t sound at all\n",
            "the right word) “—but I shall have to ask them what the name of the\n",
            "country is, you know. Please, Ma’am, is this New Zealand or Australia?”\n",
            "(and she tried to curtsey as she spoke—fancy _curtseying_ as you’re\n",
            "falling through the air! Do you think you could manage it?) “And what\n",
            "an ignorant little girl she’ll think me for asking!\n",
            "4621\n"
          ]
        }
      ]
    },
    {
      "cell_type": "markdown",
      "source": [
        "## Creating a RAG Pipeline Utilizing Semantic Chunking\n",
        "\n",
        "Let's create a RAG LCEL chain that leverages our created Semantic Chunks.\n",
        "\n",
        "We'll start by creating our Retriever."
      ],
      "metadata": {
        "id": "5zpklrvY5RV-"
      }
    },
    {
      "cell_type": "markdown",
      "source": [
        "### Retrieval\n",
        "\n",
        "We're going to use Meta's FAISS-backed vectorstore, and we'll use `text-embedding-3-large` (the same embedding model used to do the semantic chunking)\n",
        "\n",
        "> NOTE: There is not specific research or reason that suggests your vectorstore embedding model should be the same as your chunking embedding model - though intuition suggests they should be the same."
      ],
      "metadata": {
        "id": "qij7VRIK5e9z"
      }
    },
    {
      "cell_type": "code",
      "source": [
        "from langchain_community.vectorstores import FAISS\n",
        "\n",
        "semantic_chunk_vectorstore = FAISS.from_documents(semantic_chunks, embedding=OpenAIEmbeddings(model=\"text-embedding-3-large\"))"
      ],
      "metadata": {
        "id": "Iw7gxzirfsIO"
      },
      "execution_count": null,
      "outputs": []
    },
    {
      "cell_type": "markdown",
      "source": [
        "We will \"limit\" our semantic retriever to `k = 1` to demonstrate the power of the semantic chunking strategy while maintaining similar token counts between the semantic and naive retrieved context."
      ],
      "metadata": {
        "id": "y9nEcnJ55yw5"
      }
    },
    {
      "cell_type": "code",
      "source": [
        "semantic_chunk_retriever = semantic_chunk_vectorstore.as_retriever(search_kwargs={\"k\" : 1})"
      ],
      "metadata": {
        "id": "UmVEs8eBgP4P"
      },
      "execution_count": null,
      "outputs": []
    },
    {
      "cell_type": "code",
      "source": [
        "semantic_chunk_retriever.invoke(\"Who has a pocket watch?\")"
      ],
      "metadata": {
        "colab": {
          "base_uri": "https://localhost:8080/"
        },
        "id": "X9tUKruGh-Zn",
        "outputId": "c54de462-7797-49bd-e62a-635f9aff1181"
      },
      "execution_count": null,
      "outputs": [
        {
          "output_type": "execute_result",
          "data": {
            "text/plain": [
              "[Document(page_content='“He won’t stand beating. Now, if you only kept on good terms with him, he’d do almost anything\\nyou liked with the clock. For instance, suppose it were nine o’clock in\\nthe morning, just time to begin lessons: you’d only have to whisper a\\nhint to Time, and round goes the clock in a twinkling! Half-past one,\\ntime for dinner!”\\n\\n(“I only wish it was,” the March Hare said to itself in a whisper.)\\n\\n“That would be grand, certainly,” said Alice thoughtfully: “but then—I\\nshouldn’t be hungry for it, you know.”\\n\\n“Not at first, perhaps,” said the Hatter: “but you could keep it to\\nhalf-past one as long as you liked.”\\n\\n“Is that the way _you_ manage?” Alice asked. The Hatter shook his head mournfully.')]"
            ]
          },
          "metadata": {},
          "execution_count": 108
        }
      ]
    },
    {
      "cell_type": "markdown",
      "source": [
        "### Augmented\n",
        "\n",
        "We'll create a classic RAG prompt to augment our question with the retrieved context."
      ],
      "metadata": {
        "id": "wfci5WGd6D5m"
      }
    },
    {
      "cell_type": "code",
      "source": [
        "from langchain_core.prompts import ChatPromptTemplate\n",
        "\n",
        "rag_template = \"\"\"\\\n",
        "Use the following context to answer the user's query. If you cannot answer, please respond with 'I don't know'.\n",
        "\n",
        "User's Query:\n",
        "{question}\n",
        "\n",
        "Context:\n",
        "{context}\n",
        "\"\"\"\n",
        "\n",
        "rag_prompt = ChatPromptTemplate.from_template(rag_template)"
      ],
      "metadata": {
        "id": "nOpS9jUSgc5D"
      },
      "execution_count": null,
      "outputs": []
    },
    {
      "cell_type": "markdown",
      "source": [
        "### Generation\n",
        "\n",
        "We'll use the default `ChatOpenAI` model for our generator today!"
      ],
      "metadata": {
        "id": "iW82iOAH6JYa"
      }
    },
    {
      "cell_type": "code",
      "source": [
        "from langchain_openai import ChatOpenAI\n",
        "\n",
        "base_model = ChatOpenAI()"
      ],
      "metadata": {
        "id": "HUvkY6emg9Sf"
      },
      "execution_count": null,
      "outputs": []
    },
    {
      "cell_type": "markdown",
      "source": [
        "### LCEL Chain\n",
        "\n",
        "We'll create our classic LCEL chain here to test the RAG LCEL chain!"
      ],
      "metadata": {
        "id": "7P2ff9zj6NDR"
      }
    },
    {
      "cell_type": "code",
      "source": [
        "from langchain_core.runnables import RunnablePassthrough\n",
        "from langchain_core.output_parsers import StrOutputParser\n",
        "\n",
        "semantic_rag_chain = (\n",
        "    {\"context\" : semantic_chunk_retriever, \"question\" : RunnablePassthrough()}\n",
        "    | rag_prompt\n",
        "    | base_model\n",
        "    | StrOutputParser()\n",
        ")"
      ],
      "metadata": {
        "id": "dJaehLffhD-s"
      },
      "execution_count": null,
      "outputs": []
    },
    {
      "cell_type": "markdown",
      "source": [
        "Let's test it out!"
      ],
      "metadata": {
        "id": "-w_p2KEY6SfB"
      }
    },
    {
      "cell_type": "code",
      "source": [
        "semantic_rag_chain.invoke(\"How does Alice find herself falling down the rabbit hole into Wonderland?\")"
      ],
      "metadata": {
        "colab": {
          "base_uri": "https://localhost:8080/",
          "height": 53
        },
        "id": "_PYkAZnphdyC",
        "outputId": "aaabbcda-8c17-4482-d2df-d9b796fa6e9b"
      },
      "execution_count": null,
      "outputs": [
        {
          "output_type": "execute_result",
          "data": {
            "text/plain": [
              "'Alice finds herself falling down the rabbit hole into Wonderland after she sees a White Rabbit with pink eyes run by her and then take a watch out of its waistcoat-pocket. Curious, she follows the rabbit and sees it disappear down a large rabbit-hole under the hedge. Without considering how to get out, Alice goes after the rabbit and falls down the rabbit hole herself.'"
            ],
            "application/vnd.google.colaboratory.intrinsic+json": {
              "type": "string"
            }
          },
          "metadata": {},
          "execution_count": 112
        }
      ]
    },
    {
      "cell_type": "code",
      "source": [
        "semantic_rag_chain.invoke(\"Who is Dinah, and what is their importance to Alice?\")"
      ],
      "metadata": {
        "colab": {
          "base_uri": "https://localhost:8080/",
          "height": 35
        },
        "id": "328GZVL-jtcg",
        "outputId": "daa3e431-1d9b-4c54-d89a-5642c6f8a84a"
      },
      "execution_count": null,
      "outputs": [
        {
          "output_type": "execute_result",
          "data": {
            "text/plain": [
              "\"Dinah is Alice's cat, and she is important to Alice because she is a great mouse catcher.\""
            ],
            "application/vnd.google.colaboratory.intrinsic+json": {
              "type": "string"
            }
          },
          "metadata": {},
          "execution_count": 113
        }
      ]
    },
    {
      "cell_type": "markdown",
      "source": [
        "These answers seem great!\n",
        "\n",
        "Let's repeat this process for our naive chunking!"
      ],
      "metadata": {
        "id": "tIgOOzER6UdG"
      }
    },
    {
      "cell_type": "code",
      "source": [
        "naive_chunk_vectorstore = FAISS.from_texts(naive_chunks, embedding=OpenAIEmbeddings(model=\"text-embedding-3-large\"))"
      ],
      "metadata": {
        "id": "yRAHbTcsjQn2"
      },
      "execution_count": null,
      "outputs": []
    },
    {
      "cell_type": "markdown",
      "source": [
        "Notice that we're going to use `k = 15` here - this is to \"make it a fair comparison\" between the two strategies."
      ],
      "metadata": {
        "id": "VzULRPto8Awz"
      }
    },
    {
      "cell_type": "code",
      "source": [
        "naive_chunk_retriever = naive_chunk_vectorstore.as_retriever(search_kwargs={\"k\" : 15})"
      ],
      "metadata": {
        "id": "YmEl9e3zjei5"
      },
      "execution_count": null,
      "outputs": []
    },
    {
      "cell_type": "code",
      "source": [
        "naive_rag_chain = (\n",
        "    {\"context\" : naive_chunk_retriever, \"question\" : RunnablePassthrough()}\n",
        "    | rag_prompt\n",
        "    | base_model\n",
        "    | StrOutputParser()\n",
        ")"
      ],
      "metadata": {
        "id": "pGGxvjDFjlBA"
      },
      "execution_count": null,
      "outputs": []
    },
    {
      "cell_type": "code",
      "source": [
        "naive_rag_chain.invoke(\"How does Alice find herself falling down the rabbit hole into Wonderland?\")"
      ],
      "metadata": {
        "colab": {
          "base_uri": "https://localhost:8080/",
          "height": 35
        },
        "id": "OlIYioVojn45",
        "outputId": "854c7f60-4d16-4c05-a172-d664a4b87e67"
      },
      "execution_count": null,
      "outputs": [
        {
          "output_type": "execute_result",
          "data": {
            "text/plain": [
              "'Alice finds herself falling down the rabbit hole into Wonderland when she sees a large rabbit-hole under the hedge and runs after the White Rabbit, who went down it.'"
            ],
            "application/vnd.google.colaboratory.intrinsic+json": {
              "type": "string"
            }
          },
          "metadata": {},
          "execution_count": 117
        }
      ]
    },
    {
      "cell_type": "code",
      "source": [
        "naive_rag_chain.invoke(\"Who is Dinah, and what is their importance to Alice?\")"
      ],
      "metadata": {
        "colab": {
          "base_uri": "https://localhost:8080/",
          "height": 35
        },
        "id": "DPA2CxyJj0jX",
        "outputId": "6d80305b-d448-44df-f0a8-87d9e63e0c80"
      },
      "execution_count": null,
      "outputs": [
        {
          "output_type": "execute_result",
          "data": {
            "text/plain": [
              "\"Dinah is Alice's cat, and she is important to Alice because she is described as the best cat in the world and Alice is very fond of her.\""
            ],
            "application/vnd.google.colaboratory.intrinsic+json": {
              "type": "string"
            }
          },
          "metadata": {},
          "execution_count": 118
        }
      ]
    },
    {
      "cell_type": "markdown",
      "source": [
        "These answers are not bad - but they lack a certain depth that the previous answers did."
      ],
      "metadata": {
        "id": "8LrRmMFh77HF"
      }
    },
    {
      "cell_type": "markdown",
      "source": [
        "## Ragas Assessment Comparison\n",
        "\n",
        "Let's go ahead and leverage a great tool: [Ragas](https://docs.ragas.io/en/stable/getstarted/index.html)!\n",
        "\n",
        "We're going to split our documents utilizing a different chunking strategy to avoid any \"cheating\" by the naive retriever."
      ],
      "metadata": {
        "id": "plxFmptX8JVG"
      }
    },
    {
      "cell_type": "code",
      "source": [
        "synthetic_data_splitter = RecursiveCharacterTextSplitter(\n",
        "    chunk_size=400,\n",
        "    chunk_overlap=0,\n",
        "    length_function=len,\n",
        "    is_separator_regex=False\n",
        ")"
      ],
      "metadata": {
        "id": "dTsukcTBkB5K"
      },
      "execution_count": null,
      "outputs": []
    },
    {
      "cell_type": "code",
      "source": [
        "synthetic_data_chunks = synthetic_data_splitter.create_documents([alice_in_wonderland])"
      ],
      "metadata": {
        "id": "1fgqqFeski2t"
      },
      "execution_count": null,
      "outputs": []
    },
    {
      "cell_type": "markdown",
      "source": [
        "Then we will create:\n",
        "\n",
        "- Questions - synthetically generated (`gpt-3.5-turbo`)\n",
        "- Contexts - created above\n",
        "- Ground Truths - synthetically generated (`gpt-4-turbo-preview`)\n",
        "- Answers - generated from our Semantic RAG Chain"
      ],
      "metadata": {
        "id": "-Q292bc58ZEl"
      }
    },
    {
      "cell_type": "code",
      "source": [
        "questions = []\n",
        "ground_truths_semantic = []\n",
        "contexts = []\n",
        "answers = []\n",
        "\n",
        "question_prompt = \"\"\"\\\n",
        "You are a teacher preparing a test. Please create a question that can be answered by referencing the following context.\n",
        "\n",
        "Context:\n",
        "{context}\n",
        "\"\"\"\n",
        "\n",
        "question_prompt = ChatPromptTemplate.from_template(question_prompt)\n",
        "\n",
        "ground_truth_prompt = \"\"\"\\\n",
        "Use the following context and question to answer this question using *only* the provided context.\n",
        "\n",
        "Question:\n",
        "{question}\n",
        "\n",
        "Context:\n",
        "{context}\n",
        "\"\"\"\n",
        "\n",
        "ground_truth_prompt = ChatPromptTemplate.from_template(ground_truth_prompt)\n",
        "\n",
        "question_chain = question_prompt | ChatOpenAI(model=\"gpt-3.5-turbo\") | StrOutputParser()\n",
        "ground_truth_chain = ground_truth_prompt | ChatOpenAI(model=\"gpt-4-turbo-preview\") | StrOutputParser()\n",
        "\n",
        "for chunk in synthetic_data_chunks[10:20]:\n",
        "  questions.append(question_chain.invoke({\"context\" : chunk.page_content}))\n",
        "  contexts.append([chunk.page_content])\n",
        "  ground_truths_semantic.append(ground_truth_chain.invoke({\"question\" : questions[-1], \"context\" : contexts[-1]}))\n",
        "  answers.append(semantic_rag_chain.invoke(questions[-1]))"
      ],
      "metadata": {
        "id": "uDU80s47kvM4"
      },
      "execution_count": null,
      "outputs": []
    },
    {
      "cell_type": "markdown",
      "source": [
        "We'll format those into a dataset!"
      ],
      "metadata": {
        "id": "f3xbLo9v83Co"
      }
    },
    {
      "cell_type": "code",
      "source": [
        "from datasets import load_dataset, Dataset\n",
        "\n",
        "qagc_list = []\n",
        "\n",
        "for question, answer, context, ground_truth in zip(questions, answers, contexts, ground_truths_semantic):\n",
        "  qagc_list.append({\n",
        "      \"question\" : question,\n",
        "      \"answer\" : answer,\n",
        "      \"contexts\" : context,\n",
        "      \"ground_truth\" : ground_truth\n",
        "  })\n",
        "\n",
        "eval_dataset = Dataset.from_list(qagc_list)"
      ],
      "metadata": {
        "id": "6lO0juSSzYWp"
      },
      "execution_count": null,
      "outputs": []
    },
    {
      "cell_type": "code",
      "source": [
        "eval_dataset"
      ],
      "metadata": {
        "colab": {
          "base_uri": "https://localhost:8080/"
        },
        "id": "UL5aF3Ffz0QU",
        "outputId": "178d241f-ac05-4759-fc12-efd4f8cefa52"
      },
      "execution_count": null,
      "outputs": [
        {
          "output_type": "execute_result",
          "data": {
            "text/plain": [
              "Dataset({\n",
              "    features: ['question', 'answer', 'contexts', 'ground_truth'],\n",
              "    num_rows: 10\n",
              "})"
            ]
          },
          "metadata": {},
          "execution_count": 151
        }
      ]
    },
    {
      "cell_type": "markdown",
      "source": [
        "Now we can implement Ragas metrics and evaluate our created dataset."
      ],
      "metadata": {
        "id": "rnXOZA7T85jh"
      }
    },
    {
      "cell_type": "code",
      "source": [
        "from ragas.metrics import (\n",
        "    answer_relevancy,\n",
        "    faithfulness,\n",
        "    context_recall,\n",
        "    context_precision,\n",
        ")"
      ],
      "metadata": {
        "id": "Qcze7Yra0bMl"
      },
      "execution_count": null,
      "outputs": []
    },
    {
      "cell_type": "markdown",
      "source": [
        "You can check out our [previous webinar](https://www.youtube.com/watch?v=Anr1br0lLz8) about Ragas to learn a bit more about these metrics."
      ],
      "metadata": {
        "id": "wFKlitHa-G8B"
      }
    },
    {
      "cell_type": "code",
      "source": [
        "from ragas import evaluate\n",
        "\n",
        "result = evaluate(\n",
        "    eval_dataset,\n",
        "    metrics=[\n",
        "        context_precision,\n",
        "        faithfulness,\n",
        "        answer_relevancy,\n",
        "        context_recall,\n",
        "    ],\n",
        ")"
      ],
      "metadata": {
        "colab": {
          "base_uri": "https://localhost:8080/",
          "height": 49,
          "referenced_widgets": [
            "8a19afe93697426a9b6db87b2a776883",
            "0fe364b3e4674583baa07f1041fd63d1",
            "a420157bac5c428aac2159059f0b8e82",
            "13c182d4f7dc4201880515399ece62be",
            "79d99ca8a3c64577a2f8e0e4798a52bd",
            "80aeb720a4674b1480e5f4d776710727",
            "9d19ca68179b4831982d8c66e3163f08",
            "404a3ff3c62c4ae8ad7b268d6e758e64",
            "ff3196a5925546c991b78fbe32d5567d",
            "5ca56a1aafa245c28bf996a23566f0fc",
            "60ce48cbe7b548b89dcb6c29ba4bc809"
          ]
        },
        "id": "zM6Kgmbg1ou3",
        "outputId": "ccaee832-9cc8-4bee-f7a4-51bdfd812623"
      },
      "execution_count": null,
      "outputs": [
        {
          "output_type": "display_data",
          "data": {
            "text/plain": [
              "Evaluating:   0%|          | 0/40 [00:00<?, ?it/s]"
            ],
            "application/vnd.jupyter.widget-view+json": {
              "version_major": 2,
              "version_minor": 0,
              "model_id": "8a19afe93697426a9b6db87b2a776883"
            }
          },
          "metadata": {}
        }
      ]
    },
    {
      "cell_type": "code",
      "source": [
        "result"
      ],
      "metadata": {
        "colab": {
          "base_uri": "https://localhost:8080/"
        },
        "id": "k1B-u2in2gmC",
        "outputId": "d02ceb59-54a3-445c-856c-5ed3facb6898"
      },
      "execution_count": null,
      "outputs": [
        {
          "output_type": "execute_result",
          "data": {
            "text/plain": [
              "{'context_precision': 1.0000, 'faithfulness': 0.5000, 'answer_relevancy': 0.7399, 'context_recall': 1.0000}"
            ]
          },
          "metadata": {},
          "execution_count": 160
        }
      ]
    },
    {
      "cell_type": "code",
      "source": [
        "results_df = result.to_pandas()\n",
        "results_df"
      ],
      "metadata": {
        "colab": {
          "base_uri": "https://localhost:8080/",
          "height": 537
        },
        "id": "K3RzQI2H1zlQ",
        "outputId": "ec8aa851-6457-4cad-e423-8d4a7dc70a76"
      },
      "execution_count": null,
      "outputs": [
        {
          "output_type": "execute_result",
          "data": {
            "text/plain": [
              "                                            question  \\\n",
              "0  Question:\\nIn the given context, how does Alic...   \n",
              "1  Question:\\nIn the context provided, how far do...   \n",
              "2  Question: In the given context, what does Alic...   \n",
              "3  Question: In the given context, Alice expresse...   \n",
              "4  Question: In the provided context, what was th...   \n",
              "5  Question:\\n\\nWho or what is Dinah in the conte...   \n",
              "6  Question: In the context provided, what is Ali...   \n",
              "7  Question: What was Alice dreaming about just b...   \n",
              "8  Question: What did Alice do after she realized...   \n",
              "9  Question: In the passage provided, what is the...   \n",
              "\n",
              "                                              answer  \\\n",
              "0  Alice feels desperate and ready to ask for hel...   \n",
              "1  Alice estimates that she has fallen about four...   \n",
              "2  Alice wonders if she has been changed in the n...   \n",
              "3  Alice refers to the people who walk with their...   \n",
              "4  The little girl was unsure of her own identity...   \n",
              "5  Dinah is a cat, as mentioned in the context pr...   \n",
              "6                                      I don't know.   \n",
              "7                                      I don't know.   \n",
              "8  Alice took up the fan and gloves that the Whit...   \n",
              "9  The setting described as \"lit up by a row of l...   \n",
              "\n",
              "                                            contexts  \\\n",
              "0  [“Well!” thought Alice to herself, “after such...   \n",
              "1  [Down, down, down. Would the fall _never_ come...   \n",
              "2  [though this was not a _very_ good opportunity...   \n",
              "3  [Presently she began again. “I wonder if I sha...   \n",
              "4  [country is, you know. Please, Ma’am, is this ...   \n",
              "5  [Down, down, down. There was nothing else to d...   \n",
              "6  [very like a mouse, you know. But do cats eat ...   \n",
              "7  [that she was dozing off, and had just begun t...   \n",
              "8  [Alice was not a bit hurt, and she jumped up o...   \n",
              "9  [and whiskers, how late it’s getting!” She was...   \n",
              "\n",
              "                                        ground_truth  context_precision  \\\n",
              "0  Alice feels that after her recent fall, tumbli...                1.0   \n",
              "1  Alice estimates she has fallen about four thou...                1.0   \n",
              "2  In the given context, Alice wonders about what...                1.0   \n",
              "3  In the given context, Alice uses the term \"The...                1.0   \n",
              "4  In the provided context, the little girl was u...                1.0   \n",
              "5          Dinah is the cat in the provided context.                1.0   \n",
              "6  In the provided context, Alice is pondering ab...                1.0   \n",
              "7  Alice was dreaming about walking hand in hand ...                1.0   \n",
              "8  After realizing the White Rabbit was still in ...                1.0   \n",
              "9  The setting described as \"lit up by a row of l...                1.0   \n",
              "\n",
              "   faithfulness  answer_relevancy  context_recall  \n",
              "0           NaN          0.936448             1.0  \n",
              "1           1.0          0.923001             1.0  \n",
              "2           0.0          0.907038             1.0  \n",
              "3           1.0          0.914198             1.0  \n",
              "4           0.0          0.917209             1.0  \n",
              "5           1.0          0.942229             1.0  \n",
              "6           NaN          0.000000             1.0  \n",
              "7           NaN          0.000000             1.0  \n",
              "8           0.0          0.887359             1.0  \n",
              "9           NaN          0.971589             1.0  "
            ],
            "text/html": [
              "\n",
              "  <div id=\"df-9758f33d-200d-42e3-b059-6e0cd5eaeb9b\" class=\"colab-df-container\">\n",
              "    <div>\n",
              "<style scoped>\n",
              "    .dataframe tbody tr th:only-of-type {\n",
              "        vertical-align: middle;\n",
              "    }\n",
              "\n",
              "    .dataframe tbody tr th {\n",
              "        vertical-align: top;\n",
              "    }\n",
              "\n",
              "    .dataframe thead th {\n",
              "        text-align: right;\n",
              "    }\n",
              "</style>\n",
              "<table border=\"1\" class=\"dataframe\">\n",
              "  <thead>\n",
              "    <tr style=\"text-align: right;\">\n",
              "      <th></th>\n",
              "      <th>question</th>\n",
              "      <th>answer</th>\n",
              "      <th>contexts</th>\n",
              "      <th>ground_truth</th>\n",
              "      <th>context_precision</th>\n",
              "      <th>faithfulness</th>\n",
              "      <th>answer_relevancy</th>\n",
              "      <th>context_recall</th>\n",
              "    </tr>\n",
              "  </thead>\n",
              "  <tbody>\n",
              "    <tr>\n",
              "      <th>0</th>\n",
              "      <td>Question:\\nIn the given context, how does Alic...</td>\n",
              "      <td>Alice feels desperate and ready to ask for hel...</td>\n",
              "      <td>[“Well!” thought Alice to herself, “after such...</td>\n",
              "      <td>Alice feels that after her recent fall, tumbli...</td>\n",
              "      <td>1.0</td>\n",
              "      <td>NaN</td>\n",
              "      <td>0.936448</td>\n",
              "      <td>1.0</td>\n",
              "    </tr>\n",
              "    <tr>\n",
              "      <th>1</th>\n",
              "      <td>Question:\\nIn the context provided, how far do...</td>\n",
              "      <td>Alice estimates that she has fallen about four...</td>\n",
              "      <td>[Down, down, down. Would the fall _never_ come...</td>\n",
              "      <td>Alice estimates she has fallen about four thou...</td>\n",
              "      <td>1.0</td>\n",
              "      <td>1.0</td>\n",
              "      <td>0.923001</td>\n",
              "      <td>1.0</td>\n",
              "    </tr>\n",
              "    <tr>\n",
              "      <th>2</th>\n",
              "      <td>Question: In the given context, what does Alic...</td>\n",
              "      <td>Alice wonders if she has been changed in the n...</td>\n",
              "      <td>[though this was not a _very_ good opportunity...</td>\n",
              "      <td>In the given context, Alice wonders about what...</td>\n",
              "      <td>1.0</td>\n",
              "      <td>0.0</td>\n",
              "      <td>0.907038</td>\n",
              "      <td>1.0</td>\n",
              "    </tr>\n",
              "    <tr>\n",
              "      <th>3</th>\n",
              "      <td>Question: In the given context, Alice expresse...</td>\n",
              "      <td>Alice refers to the people who walk with their...</td>\n",
              "      <td>[Presently she began again. “I wonder if I sha...</td>\n",
              "      <td>In the given context, Alice uses the term \"The...</td>\n",
              "      <td>1.0</td>\n",
              "      <td>1.0</td>\n",
              "      <td>0.914198</td>\n",
              "      <td>1.0</td>\n",
              "    </tr>\n",
              "    <tr>\n",
              "      <th>4</th>\n",
              "      <td>Question: In the provided context, what was th...</td>\n",
              "      <td>The little girl was unsure of her own identity...</td>\n",
              "      <td>[country is, you know. Please, Ma’am, is this ...</td>\n",
              "      <td>In the provided context, the little girl was u...</td>\n",
              "      <td>1.0</td>\n",
              "      <td>0.0</td>\n",
              "      <td>0.917209</td>\n",
              "      <td>1.0</td>\n",
              "    </tr>\n",
              "    <tr>\n",
              "      <th>5</th>\n",
              "      <td>Question:\\n\\nWho or what is Dinah in the conte...</td>\n",
              "      <td>Dinah is a cat, as mentioned in the context pr...</td>\n",
              "      <td>[Down, down, down. There was nothing else to d...</td>\n",
              "      <td>Dinah is the cat in the provided context.</td>\n",
              "      <td>1.0</td>\n",
              "      <td>1.0</td>\n",
              "      <td>0.942229</td>\n",
              "      <td>1.0</td>\n",
              "    </tr>\n",
              "    <tr>\n",
              "      <th>6</th>\n",
              "      <td>Question: In the context provided, what is Ali...</td>\n",
              "      <td>I don't know.</td>\n",
              "      <td>[very like a mouse, you know. But do cats eat ...</td>\n",
              "      <td>In the provided context, Alice is pondering ab...</td>\n",
              "      <td>1.0</td>\n",
              "      <td>NaN</td>\n",
              "      <td>0.000000</td>\n",
              "      <td>1.0</td>\n",
              "    </tr>\n",
              "    <tr>\n",
              "      <th>7</th>\n",
              "      <td>Question: What was Alice dreaming about just b...</td>\n",
              "      <td>I don't know.</td>\n",
              "      <td>[that she was dozing off, and had just begun t...</td>\n",
              "      <td>Alice was dreaming about walking hand in hand ...</td>\n",
              "      <td>1.0</td>\n",
              "      <td>NaN</td>\n",
              "      <td>0.000000</td>\n",
              "      <td>1.0</td>\n",
              "    </tr>\n",
              "    <tr>\n",
              "      <th>8</th>\n",
              "      <td>Question: What did Alice do after she realized...</td>\n",
              "      <td>Alice took up the fan and gloves that the Whit...</td>\n",
              "      <td>[Alice was not a bit hurt, and she jumped up o...</td>\n",
              "      <td>After realizing the White Rabbit was still in ...</td>\n",
              "      <td>1.0</td>\n",
              "      <td>0.0</td>\n",
              "      <td>0.887359</td>\n",
              "      <td>1.0</td>\n",
              "    </tr>\n",
              "    <tr>\n",
              "      <th>9</th>\n",
              "      <td>Question: In the passage provided, what is the...</td>\n",
              "      <td>The setting described as \"lit up by a row of l...</td>\n",
              "      <td>[and whiskers, how late it’s getting!” She was...</td>\n",
              "      <td>The setting described as \"lit up by a row of l...</td>\n",
              "      <td>1.0</td>\n",
              "      <td>NaN</td>\n",
              "      <td>0.971589</td>\n",
              "      <td>1.0</td>\n",
              "    </tr>\n",
              "  </tbody>\n",
              "</table>\n",
              "</div>\n",
              "    <div class=\"colab-df-buttons\">\n",
              "\n",
              "  <div class=\"colab-df-container\">\n",
              "    <button class=\"colab-df-convert\" onclick=\"convertToInteractive('df-9758f33d-200d-42e3-b059-6e0cd5eaeb9b')\"\n",
              "            title=\"Convert this dataframe to an interactive table.\"\n",
              "            style=\"display:none;\">\n",
              "\n",
              "  <svg xmlns=\"http://www.w3.org/2000/svg\" height=\"24px\" viewBox=\"0 -960 960 960\">\n",
              "    <path d=\"M120-120v-720h720v720H120Zm60-500h600v-160H180v160Zm220 220h160v-160H400v160Zm0 220h160v-160H400v160ZM180-400h160v-160H180v160Zm440 0h160v-160H620v160ZM180-180h160v-160H180v160Zm440 0h160v-160H620v160Z\"/>\n",
              "  </svg>\n",
              "    </button>\n",
              "\n",
              "  <style>\n",
              "    .colab-df-container {\n",
              "      display:flex;\n",
              "      gap: 12px;\n",
              "    }\n",
              "\n",
              "    .colab-df-convert {\n",
              "      background-color: #E8F0FE;\n",
              "      border: none;\n",
              "      border-radius: 50%;\n",
              "      cursor: pointer;\n",
              "      display: none;\n",
              "      fill: #1967D2;\n",
              "      height: 32px;\n",
              "      padding: 0 0 0 0;\n",
              "      width: 32px;\n",
              "    }\n",
              "\n",
              "    .colab-df-convert:hover {\n",
              "      background-color: #E2EBFA;\n",
              "      box-shadow: 0px 1px 2px rgba(60, 64, 67, 0.3), 0px 1px 3px 1px rgba(60, 64, 67, 0.15);\n",
              "      fill: #174EA6;\n",
              "    }\n",
              "\n",
              "    .colab-df-buttons div {\n",
              "      margin-bottom: 4px;\n",
              "    }\n",
              "\n",
              "    [theme=dark] .colab-df-convert {\n",
              "      background-color: #3B4455;\n",
              "      fill: #D2E3FC;\n",
              "    }\n",
              "\n",
              "    [theme=dark] .colab-df-convert:hover {\n",
              "      background-color: #434B5C;\n",
              "      box-shadow: 0px 1px 3px 1px rgba(0, 0, 0, 0.15);\n",
              "      filter: drop-shadow(0px 1px 2px rgba(0, 0, 0, 0.3));\n",
              "      fill: #FFFFFF;\n",
              "    }\n",
              "  </style>\n",
              "\n",
              "    <script>\n",
              "      const buttonEl =\n",
              "        document.querySelector('#df-9758f33d-200d-42e3-b059-6e0cd5eaeb9b button.colab-df-convert');\n",
              "      buttonEl.style.display =\n",
              "        google.colab.kernel.accessAllowed ? 'block' : 'none';\n",
              "\n",
              "      async function convertToInteractive(key) {\n",
              "        const element = document.querySelector('#df-9758f33d-200d-42e3-b059-6e0cd5eaeb9b');\n",
              "        const dataTable =\n",
              "          await google.colab.kernel.invokeFunction('convertToInteractive',\n",
              "                                                    [key], {});\n",
              "        if (!dataTable) return;\n",
              "\n",
              "        const docLinkHtml = 'Like what you see? Visit the ' +\n",
              "          '<a target=\"_blank\" href=https://colab.research.google.com/notebooks/data_table.ipynb>data table notebook</a>'\n",
              "          + ' to learn more about interactive tables.';\n",
              "        element.innerHTML = '';\n",
              "        dataTable['output_type'] = 'display_data';\n",
              "        await google.colab.output.renderOutput(dataTable, element);\n",
              "        const docLink = document.createElement('div');\n",
              "        docLink.innerHTML = docLinkHtml;\n",
              "        element.appendChild(docLink);\n",
              "      }\n",
              "    </script>\n",
              "  </div>\n",
              "\n",
              "\n",
              "<div id=\"df-d9bef23c-5ee6-4ddf-be95-78e5b6180088\">\n",
              "  <button class=\"colab-df-quickchart\" onclick=\"quickchart('df-d9bef23c-5ee6-4ddf-be95-78e5b6180088')\"\n",
              "            title=\"Suggest charts\"\n",
              "            style=\"display:none;\">\n",
              "\n",
              "<svg xmlns=\"http://www.w3.org/2000/svg\" height=\"24px\"viewBox=\"0 0 24 24\"\n",
              "     width=\"24px\">\n",
              "    <g>\n",
              "        <path d=\"M19 3H5c-1.1 0-2 .9-2 2v14c0 1.1.9 2 2 2h14c1.1 0 2-.9 2-2V5c0-1.1-.9-2-2-2zM9 17H7v-7h2v7zm4 0h-2V7h2v10zm4 0h-2v-4h2v4z\"/>\n",
              "    </g>\n",
              "</svg>\n",
              "  </button>\n",
              "\n",
              "<style>\n",
              "  .colab-df-quickchart {\n",
              "      --bg-color: #E8F0FE;\n",
              "      --fill-color: #1967D2;\n",
              "      --hover-bg-color: #E2EBFA;\n",
              "      --hover-fill-color: #174EA6;\n",
              "      --disabled-fill-color: #AAA;\n",
              "      --disabled-bg-color: #DDD;\n",
              "  }\n",
              "\n",
              "  [theme=dark] .colab-df-quickchart {\n",
              "      --bg-color: #3B4455;\n",
              "      --fill-color: #D2E3FC;\n",
              "      --hover-bg-color: #434B5C;\n",
              "      --hover-fill-color: #FFFFFF;\n",
              "      --disabled-bg-color: #3B4455;\n",
              "      --disabled-fill-color: #666;\n",
              "  }\n",
              "\n",
              "  .colab-df-quickchart {\n",
              "    background-color: var(--bg-color);\n",
              "    border: none;\n",
              "    border-radius: 50%;\n",
              "    cursor: pointer;\n",
              "    display: none;\n",
              "    fill: var(--fill-color);\n",
              "    height: 32px;\n",
              "    padding: 0;\n",
              "    width: 32px;\n",
              "  }\n",
              "\n",
              "  .colab-df-quickchart:hover {\n",
              "    background-color: var(--hover-bg-color);\n",
              "    box-shadow: 0 1px 2px rgba(60, 64, 67, 0.3), 0 1px 3px 1px rgba(60, 64, 67, 0.15);\n",
              "    fill: var(--button-hover-fill-color);\n",
              "  }\n",
              "\n",
              "  .colab-df-quickchart-complete:disabled,\n",
              "  .colab-df-quickchart-complete:disabled:hover {\n",
              "    background-color: var(--disabled-bg-color);\n",
              "    fill: var(--disabled-fill-color);\n",
              "    box-shadow: none;\n",
              "  }\n",
              "\n",
              "  .colab-df-spinner {\n",
              "    border: 2px solid var(--fill-color);\n",
              "    border-color: transparent;\n",
              "    border-bottom-color: var(--fill-color);\n",
              "    animation:\n",
              "      spin 1s steps(1) infinite;\n",
              "  }\n",
              "\n",
              "  @keyframes spin {\n",
              "    0% {\n",
              "      border-color: transparent;\n",
              "      border-bottom-color: var(--fill-color);\n",
              "      border-left-color: var(--fill-color);\n",
              "    }\n",
              "    20% {\n",
              "      border-color: transparent;\n",
              "      border-left-color: var(--fill-color);\n",
              "      border-top-color: var(--fill-color);\n",
              "    }\n",
              "    30% {\n",
              "      border-color: transparent;\n",
              "      border-left-color: var(--fill-color);\n",
              "      border-top-color: var(--fill-color);\n",
              "      border-right-color: var(--fill-color);\n",
              "    }\n",
              "    40% {\n",
              "      border-color: transparent;\n",
              "      border-right-color: var(--fill-color);\n",
              "      border-top-color: var(--fill-color);\n",
              "    }\n",
              "    60% {\n",
              "      border-color: transparent;\n",
              "      border-right-color: var(--fill-color);\n",
              "    }\n",
              "    80% {\n",
              "      border-color: transparent;\n",
              "      border-right-color: var(--fill-color);\n",
              "      border-bottom-color: var(--fill-color);\n",
              "    }\n",
              "    90% {\n",
              "      border-color: transparent;\n",
              "      border-bottom-color: var(--fill-color);\n",
              "    }\n",
              "  }\n",
              "</style>\n",
              "\n",
              "  <script>\n",
              "    async function quickchart(key) {\n",
              "      const quickchartButtonEl =\n",
              "        document.querySelector('#' + key + ' button');\n",
              "      quickchartButtonEl.disabled = true;  // To prevent multiple clicks.\n",
              "      quickchartButtonEl.classList.add('colab-df-spinner');\n",
              "      try {\n",
              "        const charts = await google.colab.kernel.invokeFunction(\n",
              "            'suggestCharts', [key], {});\n",
              "      } catch (error) {\n",
              "        console.error('Error during call to suggestCharts:', error);\n",
              "      }\n",
              "      quickchartButtonEl.classList.remove('colab-df-spinner');\n",
              "      quickchartButtonEl.classList.add('colab-df-quickchart-complete');\n",
              "    }\n",
              "    (() => {\n",
              "      let quickchartButtonEl =\n",
              "        document.querySelector('#df-d9bef23c-5ee6-4ddf-be95-78e5b6180088 button');\n",
              "      quickchartButtonEl.style.display =\n",
              "        google.colab.kernel.accessAllowed ? 'block' : 'none';\n",
              "    })();\n",
              "  </script>\n",
              "</div>\n",
              "    </div>\n",
              "  </div>\n"
            ],
            "application/vnd.google.colaboratory.intrinsic+json": {
              "type": "dataframe",
              "variable_name": "results_df",
              "summary": "{\n  \"name\": \"results_df\",\n  \"rows\": 10,\n  \"fields\": [\n    {\n      \"column\": \"question\",\n      \"properties\": {\n        \"dtype\": \"string\",\n        \"num_unique_values\": 10,\n        \"samples\": [\n          \"Question: What did Alice do after she realized the White Rabbit was still in sight and hurrying down another long passage?\",\n          \"Question:\\nIn the context provided, how far does Alice estimate she has fallen so far?\",\n          \"Question:\\n\\nWho or what is Dinah in the context provided?\"\n        ],\n        \"semantic_type\": \"\",\n        \"description\": \"\"\n      }\n    },\n    {\n      \"column\": \"answer\",\n      \"properties\": {\n        \"dtype\": \"string\",\n        \"num_unique_values\": 9,\n        \"samples\": [\n          \"Alice took up the fan and gloves that the White Rabbit dropped and kept fanning herself as she continued talking.\",\n          \"Alice estimates that she has fallen about four thousand miles by this time.\",\n          \"Dinah is a cat, as mentioned in the context provided.\"\n        ],\n        \"semantic_type\": \"\",\n        \"description\": \"\"\n      }\n    },\n    {\n      \"column\": \"contexts\",\n      \"properties\": {\n        \"dtype\": \"object\",\n        \"semantic_type\": \"\",\n        \"description\": \"\"\n      }\n    },\n    {\n      \"column\": \"ground_truth\",\n      \"properties\": {\n        \"dtype\": \"string\",\n        \"num_unique_values\": 10,\n        \"samples\": [\n          \"After realizing the White Rabbit was still in sight and hurrying down another long passage, Alice was not a moment to lose and went away like the wind, managing to be just in time to hear the White Rabbit say, as it turned a corner, \\u201cOh my ears\\u201d.\",\n          \"Alice estimates she has fallen about four thousand miles.\",\n          \"Dinah is the cat in the provided context.\"\n        ],\n        \"semantic_type\": \"\",\n        \"description\": \"\"\n      }\n    },\n    {\n      \"column\": \"context_precision\",\n      \"properties\": {\n        \"dtype\": \"number\",\n        \"std\": 0.0,\n        \"min\": 0.9999999999,\n        \"max\": 0.9999999999,\n        \"num_unique_values\": 1,\n        \"samples\": [\n          0.9999999999\n        ],\n        \"semantic_type\": \"\",\n        \"description\": \"\"\n      }\n    },\n    {\n      \"column\": \"faithfulness\",\n      \"properties\": {\n        \"dtype\": \"number\",\n        \"std\": 0.5477225575051661,\n        \"min\": 0.0,\n        \"max\": 1.0,\n        \"num_unique_values\": 2,\n        \"samples\": [\n          0.0\n        ],\n        \"semantic_type\": \"\",\n        \"description\": \"\"\n      }\n    },\n    {\n      \"column\": \"answer_relevancy\",\n      \"properties\": {\n        \"dtype\": \"number\",\n        \"std\": 0.39060854778356924,\n        \"min\": 0.0,\n        \"max\": 0.9715892394716251,\n        \"num_unique_values\": 9,\n        \"samples\": [\n          0.8873588753238676\n        ],\n        \"semantic_type\": \"\",\n        \"description\": \"\"\n      }\n    },\n    {\n      \"column\": \"context_recall\",\n      \"properties\": {\n        \"dtype\": \"number\",\n        \"std\": 0.0,\n        \"min\": 1.0,\n        \"max\": 1.0,\n        \"num_unique_values\": 1,\n        \"samples\": [\n          1.0\n        ],\n        \"semantic_type\": \"\",\n        \"description\": \"\"\n      }\n    }\n  ]\n}"
            }
          },
          "metadata": {},
          "execution_count": 155
        }
      ]
    },
    {
      "cell_type": "markdown",
      "source": [
        "The results indicate that this is a \"fine\" result - largely.\n",
        "\n",
        "But let's compare to our naive strategy!"
      ],
      "metadata": {
        "id": "lUMUQlNF-ZU2"
      }
    },
    {
      "cell_type": "code",
      "source": [
        "for chunk in synthetic_data_chunks[10:20]:\n",
        "  questions.append(question_chain.invoke({\"context\" : chunk.page_content}))\n",
        "  contexts.append([chunk.page_content])\n",
        "  ground_truths_semantic.append(ground_truth_chain.invoke({\"question\" : questions[-1], \"context\" : contexts[-1]}))\n",
        "  answers.append(naive_rag_chain.invoke(questions[-1]))"
      ],
      "metadata": {
        "id": "l4AQdvuX1wvT"
      },
      "execution_count": null,
      "outputs": []
    },
    {
      "cell_type": "code",
      "source": [
        "naive_result = evaluate(\n",
        "    eval_dataset,\n",
        "    metrics=[\n",
        "        context_precision,\n",
        "        faithfulness,\n",
        "        answer_relevancy,\n",
        "        context_recall,\n",
        "    ],\n",
        ")"
      ],
      "metadata": {
        "colab": {
          "base_uri": "https://localhost:8080/",
          "height": 49,
          "referenced_widgets": [
            "ac277b34e68d448c8ed089cdf9288152",
            "de0bd542974e406e9611f34bb8497c98",
            "fb08083b3d7e43ad82a249d4252aa1e0",
            "b01430e74f3b4d17b216245b863fbbdc",
            "488b54780d914474b12deb779a38bd10",
            "f72cf29db9a44bd9a44a1e7bd3609241",
            "4d986213a7eb409f97bd27131299b176",
            "b5d892f3cc1240b892d311cd7d6e42c5",
            "c7cb700b8af04fe7a8eb0c821df85cc8",
            "b08a5804356643839b391ab312d76f9d",
            "12dd71a66b2b46dfa5fe41bfc5433d87"
          ]
        },
        "id": "-VH48jf518j0",
        "outputId": "b40fa990-912f-4e98-aa06-03b20f432a39"
      },
      "execution_count": null,
      "outputs": [
        {
          "output_type": "display_data",
          "data": {
            "text/plain": [
              "Evaluating:   0%|          | 0/40 [00:00<?, ?it/s]"
            ],
            "application/vnd.jupyter.widget-view+json": {
              "version_major": 2,
              "version_minor": 0,
              "model_id": "ac277b34e68d448c8ed089cdf9288152"
            }
          },
          "metadata": {}
        }
      ]
    },
    {
      "cell_type": "code",
      "source": [
        "naive_result"
      ],
      "metadata": {
        "colab": {
          "base_uri": "https://localhost:8080/"
        },
        "id": "cGkoXZdQ2ejX",
        "outputId": "2913eaf9-3b20-4535-b8a8-8ca9a2edad9d"
      },
      "execution_count": null,
      "outputs": [
        {
          "output_type": "execute_result",
          "data": {
            "text/plain": [
              "{'context_precision': 1.0000, 'faithfulness': 0.5000, 'answer_relevancy': 0.6492, 'context_recall': 1.0000}"
            ]
          },
          "metadata": {},
          "execution_count": 159
        }
      ]
    },
    {
      "cell_type": "code",
      "source": [
        "naive_results_df = result.to_pandas()\n",
        "naive_results_df"
      ],
      "metadata": {
        "colab": {
          "base_uri": "https://localhost:8080/",
          "height": 537
        },
        "id": "1E-pRCPE1-UP",
        "outputId": "523f59f8-118b-4f4d-d444-ef4800a97a66"
      },
      "execution_count": null,
      "outputs": [
        {
          "output_type": "execute_result",
          "data": {
            "text/plain": [
              "                                            question  \\\n",
              "0  Question:\\nIn the given context, how does Alic...   \n",
              "1  Question:\\nIn the context provided, how far do...   \n",
              "2  Question: In the given context, what does Alic...   \n",
              "3  Question: In the given context, Alice expresse...   \n",
              "4  Question: In the provided context, what was th...   \n",
              "5  Question:\\n\\nWho or what is Dinah in the conte...   \n",
              "6  Question: In the context provided, what is Ali...   \n",
              "7  Question: What was Alice dreaming about just b...   \n",
              "8  Question: What did Alice do after she realized...   \n",
              "9  Question: In the passage provided, what is the...   \n",
              "\n",
              "                                              answer  \\\n",
              "0  Alice feels desperate and ready to ask for hel...   \n",
              "1  Alice estimates that she has fallen about four...   \n",
              "2  Alice wonders if she has been changed in the n...   \n",
              "3  Alice refers to the people who walk with their...   \n",
              "4  The little girl was unsure of her own identity...   \n",
              "5  Dinah is a cat, as mentioned in the context pr...   \n",
              "6                                      I don't know.   \n",
              "7                                      I don't know.   \n",
              "8  Alice took up the fan and gloves that the Whit...   \n",
              "9  The setting described as \"lit up by a row of l...   \n",
              "\n",
              "                                            contexts  \\\n",
              "0  [“Well!” thought Alice to herself, “after such...   \n",
              "1  [Down, down, down. Would the fall _never_ come...   \n",
              "2  [though this was not a _very_ good opportunity...   \n",
              "3  [Presently she began again. “I wonder if I sha...   \n",
              "4  [country is, you know. Please, Ma’am, is this ...   \n",
              "5  [Down, down, down. There was nothing else to d...   \n",
              "6  [very like a mouse, you know. But do cats eat ...   \n",
              "7  [that she was dozing off, and had just begun t...   \n",
              "8  [Alice was not a bit hurt, and she jumped up o...   \n",
              "9  [and whiskers, how late it’s getting!” She was...   \n",
              "\n",
              "                                        ground_truth  context_precision  \\\n",
              "0  Alice feels that after her recent fall, tumbli...                1.0   \n",
              "1  Alice estimates she has fallen about four thou...                1.0   \n",
              "2  In the given context, Alice wonders about what...                1.0   \n",
              "3  In the given context, Alice uses the term \"The...                1.0   \n",
              "4  In the provided context, the little girl was u...                1.0   \n",
              "5          Dinah is the cat in the provided context.                1.0   \n",
              "6  In the provided context, Alice is pondering ab...                1.0   \n",
              "7  Alice was dreaming about walking hand in hand ...                1.0   \n",
              "8  After realizing the White Rabbit was still in ...                1.0   \n",
              "9  The setting described as \"lit up by a row of l...                1.0   \n",
              "\n",
              "   faithfulness  answer_relevancy  context_recall  \n",
              "0           NaN          0.936448             1.0  \n",
              "1           1.0          0.923001             1.0  \n",
              "2           0.0          0.907038             1.0  \n",
              "3           1.0          0.914198             1.0  \n",
              "4           0.0          0.917209             1.0  \n",
              "5           1.0          0.942229             1.0  \n",
              "6           NaN          0.000000             1.0  \n",
              "7           NaN          0.000000             1.0  \n",
              "8           0.0          0.887359             1.0  \n",
              "9           NaN          0.971589             1.0  "
            ],
            "text/html": [
              "\n",
              "  <div id=\"df-2d51208c-7eda-4f40-8a14-fea79b6d67c5\" class=\"colab-df-container\">\n",
              "    <div>\n",
              "<style scoped>\n",
              "    .dataframe tbody tr th:only-of-type {\n",
              "        vertical-align: middle;\n",
              "    }\n",
              "\n",
              "    .dataframe tbody tr th {\n",
              "        vertical-align: top;\n",
              "    }\n",
              "\n",
              "    .dataframe thead th {\n",
              "        text-align: right;\n",
              "    }\n",
              "</style>\n",
              "<table border=\"1\" class=\"dataframe\">\n",
              "  <thead>\n",
              "    <tr style=\"text-align: right;\">\n",
              "      <th></th>\n",
              "      <th>question</th>\n",
              "      <th>answer</th>\n",
              "      <th>contexts</th>\n",
              "      <th>ground_truth</th>\n",
              "      <th>context_precision</th>\n",
              "      <th>faithfulness</th>\n",
              "      <th>answer_relevancy</th>\n",
              "      <th>context_recall</th>\n",
              "    </tr>\n",
              "  </thead>\n",
              "  <tbody>\n",
              "    <tr>\n",
              "      <th>0</th>\n",
              "      <td>Question:\\nIn the given context, how does Alic...</td>\n",
              "      <td>Alice feels desperate and ready to ask for hel...</td>\n",
              "      <td>[“Well!” thought Alice to herself, “after such...</td>\n",
              "      <td>Alice feels that after her recent fall, tumbli...</td>\n",
              "      <td>1.0</td>\n",
              "      <td>NaN</td>\n",
              "      <td>0.936448</td>\n",
              "      <td>1.0</td>\n",
              "    </tr>\n",
              "    <tr>\n",
              "      <th>1</th>\n",
              "      <td>Question:\\nIn the context provided, how far do...</td>\n",
              "      <td>Alice estimates that she has fallen about four...</td>\n",
              "      <td>[Down, down, down. Would the fall _never_ come...</td>\n",
              "      <td>Alice estimates she has fallen about four thou...</td>\n",
              "      <td>1.0</td>\n",
              "      <td>1.0</td>\n",
              "      <td>0.923001</td>\n",
              "      <td>1.0</td>\n",
              "    </tr>\n",
              "    <tr>\n",
              "      <th>2</th>\n",
              "      <td>Question: In the given context, what does Alic...</td>\n",
              "      <td>Alice wonders if she has been changed in the n...</td>\n",
              "      <td>[though this was not a _very_ good opportunity...</td>\n",
              "      <td>In the given context, Alice wonders about what...</td>\n",
              "      <td>1.0</td>\n",
              "      <td>0.0</td>\n",
              "      <td>0.907038</td>\n",
              "      <td>1.0</td>\n",
              "    </tr>\n",
              "    <tr>\n",
              "      <th>3</th>\n",
              "      <td>Question: In the given context, Alice expresse...</td>\n",
              "      <td>Alice refers to the people who walk with their...</td>\n",
              "      <td>[Presently she began again. “I wonder if I sha...</td>\n",
              "      <td>In the given context, Alice uses the term \"The...</td>\n",
              "      <td>1.0</td>\n",
              "      <td>1.0</td>\n",
              "      <td>0.914198</td>\n",
              "      <td>1.0</td>\n",
              "    </tr>\n",
              "    <tr>\n",
              "      <th>4</th>\n",
              "      <td>Question: In the provided context, what was th...</td>\n",
              "      <td>The little girl was unsure of her own identity...</td>\n",
              "      <td>[country is, you know. Please, Ma’am, is this ...</td>\n",
              "      <td>In the provided context, the little girl was u...</td>\n",
              "      <td>1.0</td>\n",
              "      <td>0.0</td>\n",
              "      <td>0.917209</td>\n",
              "      <td>1.0</td>\n",
              "    </tr>\n",
              "    <tr>\n",
              "      <th>5</th>\n",
              "      <td>Question:\\n\\nWho or what is Dinah in the conte...</td>\n",
              "      <td>Dinah is a cat, as mentioned in the context pr...</td>\n",
              "      <td>[Down, down, down. There was nothing else to d...</td>\n",
              "      <td>Dinah is the cat in the provided context.</td>\n",
              "      <td>1.0</td>\n",
              "      <td>1.0</td>\n",
              "      <td>0.942229</td>\n",
              "      <td>1.0</td>\n",
              "    </tr>\n",
              "    <tr>\n",
              "      <th>6</th>\n",
              "      <td>Question: In the context provided, what is Ali...</td>\n",
              "      <td>I don't know.</td>\n",
              "      <td>[very like a mouse, you know. But do cats eat ...</td>\n",
              "      <td>In the provided context, Alice is pondering ab...</td>\n",
              "      <td>1.0</td>\n",
              "      <td>NaN</td>\n",
              "      <td>0.000000</td>\n",
              "      <td>1.0</td>\n",
              "    </tr>\n",
              "    <tr>\n",
              "      <th>7</th>\n",
              "      <td>Question: What was Alice dreaming about just b...</td>\n",
              "      <td>I don't know.</td>\n",
              "      <td>[that she was dozing off, and had just begun t...</td>\n",
              "      <td>Alice was dreaming about walking hand in hand ...</td>\n",
              "      <td>1.0</td>\n",
              "      <td>NaN</td>\n",
              "      <td>0.000000</td>\n",
              "      <td>1.0</td>\n",
              "    </tr>\n",
              "    <tr>\n",
              "      <th>8</th>\n",
              "      <td>Question: What did Alice do after she realized...</td>\n",
              "      <td>Alice took up the fan and gloves that the Whit...</td>\n",
              "      <td>[Alice was not a bit hurt, and she jumped up o...</td>\n",
              "      <td>After realizing the White Rabbit was still in ...</td>\n",
              "      <td>1.0</td>\n",
              "      <td>0.0</td>\n",
              "      <td>0.887359</td>\n",
              "      <td>1.0</td>\n",
              "    </tr>\n",
              "    <tr>\n",
              "      <th>9</th>\n",
              "      <td>Question: In the passage provided, what is the...</td>\n",
              "      <td>The setting described as \"lit up by a row of l...</td>\n",
              "      <td>[and whiskers, how late it’s getting!” She was...</td>\n",
              "      <td>The setting described as \"lit up by a row of l...</td>\n",
              "      <td>1.0</td>\n",
              "      <td>NaN</td>\n",
              "      <td>0.971589</td>\n",
              "      <td>1.0</td>\n",
              "    </tr>\n",
              "  </tbody>\n",
              "</table>\n",
              "</div>\n",
              "    <div class=\"colab-df-buttons\">\n",
              "\n",
              "  <div class=\"colab-df-container\">\n",
              "    <button class=\"colab-df-convert\" onclick=\"convertToInteractive('df-2d51208c-7eda-4f40-8a14-fea79b6d67c5')\"\n",
              "            title=\"Convert this dataframe to an interactive table.\"\n",
              "            style=\"display:none;\">\n",
              "\n",
              "  <svg xmlns=\"http://www.w3.org/2000/svg\" height=\"24px\" viewBox=\"0 -960 960 960\">\n",
              "    <path d=\"M120-120v-720h720v720H120Zm60-500h600v-160H180v160Zm220 220h160v-160H400v160Zm0 220h160v-160H400v160ZM180-400h160v-160H180v160Zm440 0h160v-160H620v160ZM180-180h160v-160H180v160Zm440 0h160v-160H620v160Z\"/>\n",
              "  </svg>\n",
              "    </button>\n",
              "\n",
              "  <style>\n",
              "    .colab-df-container {\n",
              "      display:flex;\n",
              "      gap: 12px;\n",
              "    }\n",
              "\n",
              "    .colab-df-convert {\n",
              "      background-color: #E8F0FE;\n",
              "      border: none;\n",
              "      border-radius: 50%;\n",
              "      cursor: pointer;\n",
              "      display: none;\n",
              "      fill: #1967D2;\n",
              "      height: 32px;\n",
              "      padding: 0 0 0 0;\n",
              "      width: 32px;\n",
              "    }\n",
              "\n",
              "    .colab-df-convert:hover {\n",
              "      background-color: #E2EBFA;\n",
              "      box-shadow: 0px 1px 2px rgba(60, 64, 67, 0.3), 0px 1px 3px 1px rgba(60, 64, 67, 0.15);\n",
              "      fill: #174EA6;\n",
              "    }\n",
              "\n",
              "    .colab-df-buttons div {\n",
              "      margin-bottom: 4px;\n",
              "    }\n",
              "\n",
              "    [theme=dark] .colab-df-convert {\n",
              "      background-color: #3B4455;\n",
              "      fill: #D2E3FC;\n",
              "    }\n",
              "\n",
              "    [theme=dark] .colab-df-convert:hover {\n",
              "      background-color: #434B5C;\n",
              "      box-shadow: 0px 1px 3px 1px rgba(0, 0, 0, 0.15);\n",
              "      filter: drop-shadow(0px 1px 2px rgba(0, 0, 0, 0.3));\n",
              "      fill: #FFFFFF;\n",
              "    }\n",
              "  </style>\n",
              "\n",
              "    <script>\n",
              "      const buttonEl =\n",
              "        document.querySelector('#df-2d51208c-7eda-4f40-8a14-fea79b6d67c5 button.colab-df-convert');\n",
              "      buttonEl.style.display =\n",
              "        google.colab.kernel.accessAllowed ? 'block' : 'none';\n",
              "\n",
              "      async function convertToInteractive(key) {\n",
              "        const element = document.querySelector('#df-2d51208c-7eda-4f40-8a14-fea79b6d67c5');\n",
              "        const dataTable =\n",
              "          await google.colab.kernel.invokeFunction('convertToInteractive',\n",
              "                                                    [key], {});\n",
              "        if (!dataTable) return;\n",
              "\n",
              "        const docLinkHtml = 'Like what you see? Visit the ' +\n",
              "          '<a target=\"_blank\" href=https://colab.research.google.com/notebooks/data_table.ipynb>data table notebook</a>'\n",
              "          + ' to learn more about interactive tables.';\n",
              "        element.innerHTML = '';\n",
              "        dataTable['output_type'] = 'display_data';\n",
              "        await google.colab.output.renderOutput(dataTable, element);\n",
              "        const docLink = document.createElement('div');\n",
              "        docLink.innerHTML = docLinkHtml;\n",
              "        element.appendChild(docLink);\n",
              "      }\n",
              "    </script>\n",
              "  </div>\n",
              "\n",
              "\n",
              "<div id=\"df-0e003c4d-cea0-4326-9c34-9f65dd0c97fa\">\n",
              "  <button class=\"colab-df-quickchart\" onclick=\"quickchart('df-0e003c4d-cea0-4326-9c34-9f65dd0c97fa')\"\n",
              "            title=\"Suggest charts\"\n",
              "            style=\"display:none;\">\n",
              "\n",
              "<svg xmlns=\"http://www.w3.org/2000/svg\" height=\"24px\"viewBox=\"0 0 24 24\"\n",
              "     width=\"24px\">\n",
              "    <g>\n",
              "        <path d=\"M19 3H5c-1.1 0-2 .9-2 2v14c0 1.1.9 2 2 2h14c1.1 0 2-.9 2-2V5c0-1.1-.9-2-2-2zM9 17H7v-7h2v7zm4 0h-2V7h2v10zm4 0h-2v-4h2v4z\"/>\n",
              "    </g>\n",
              "</svg>\n",
              "  </button>\n",
              "\n",
              "<style>\n",
              "  .colab-df-quickchart {\n",
              "      --bg-color: #E8F0FE;\n",
              "      --fill-color: #1967D2;\n",
              "      --hover-bg-color: #E2EBFA;\n",
              "      --hover-fill-color: #174EA6;\n",
              "      --disabled-fill-color: #AAA;\n",
              "      --disabled-bg-color: #DDD;\n",
              "  }\n",
              "\n",
              "  [theme=dark] .colab-df-quickchart {\n",
              "      --bg-color: #3B4455;\n",
              "      --fill-color: #D2E3FC;\n",
              "      --hover-bg-color: #434B5C;\n",
              "      --hover-fill-color: #FFFFFF;\n",
              "      --disabled-bg-color: #3B4455;\n",
              "      --disabled-fill-color: #666;\n",
              "  }\n",
              "\n",
              "  .colab-df-quickchart {\n",
              "    background-color: var(--bg-color);\n",
              "    border: none;\n",
              "    border-radius: 50%;\n",
              "    cursor: pointer;\n",
              "    display: none;\n",
              "    fill: var(--fill-color);\n",
              "    height: 32px;\n",
              "    padding: 0;\n",
              "    width: 32px;\n",
              "  }\n",
              "\n",
              "  .colab-df-quickchart:hover {\n",
              "    background-color: var(--hover-bg-color);\n",
              "    box-shadow: 0 1px 2px rgba(60, 64, 67, 0.3), 0 1px 3px 1px rgba(60, 64, 67, 0.15);\n",
              "    fill: var(--button-hover-fill-color);\n",
              "  }\n",
              "\n",
              "  .colab-df-quickchart-complete:disabled,\n",
              "  .colab-df-quickchart-complete:disabled:hover {\n",
              "    background-color: var(--disabled-bg-color);\n",
              "    fill: var(--disabled-fill-color);\n",
              "    box-shadow: none;\n",
              "  }\n",
              "\n",
              "  .colab-df-spinner {\n",
              "    border: 2px solid var(--fill-color);\n",
              "    border-color: transparent;\n",
              "    border-bottom-color: var(--fill-color);\n",
              "    animation:\n",
              "      spin 1s steps(1) infinite;\n",
              "  }\n",
              "\n",
              "  @keyframes spin {\n",
              "    0% {\n",
              "      border-color: transparent;\n",
              "      border-bottom-color: var(--fill-color);\n",
              "      border-left-color: var(--fill-color);\n",
              "    }\n",
              "    20% {\n",
              "      border-color: transparent;\n",
              "      border-left-color: var(--fill-color);\n",
              "      border-top-color: var(--fill-color);\n",
              "    }\n",
              "    30% {\n",
              "      border-color: transparent;\n",
              "      border-left-color: var(--fill-color);\n",
              "      border-top-color: var(--fill-color);\n",
              "      border-right-color: var(--fill-color);\n",
              "    }\n",
              "    40% {\n",
              "      border-color: transparent;\n",
              "      border-right-color: var(--fill-color);\n",
              "      border-top-color: var(--fill-color);\n",
              "    }\n",
              "    60% {\n",
              "      border-color: transparent;\n",
              "      border-right-color: var(--fill-color);\n",
              "    }\n",
              "    80% {\n",
              "      border-color: transparent;\n",
              "      border-right-color: var(--fill-color);\n",
              "      border-bottom-color: var(--fill-color);\n",
              "    }\n",
              "    90% {\n",
              "      border-color: transparent;\n",
              "      border-bottom-color: var(--fill-color);\n",
              "    }\n",
              "  }\n",
              "</style>\n",
              "\n",
              "  <script>\n",
              "    async function quickchart(key) {\n",
              "      const quickchartButtonEl =\n",
              "        document.querySelector('#' + key + ' button');\n",
              "      quickchartButtonEl.disabled = true;  // To prevent multiple clicks.\n",
              "      quickchartButtonEl.classList.add('colab-df-spinner');\n",
              "      try {\n",
              "        const charts = await google.colab.kernel.invokeFunction(\n",
              "            'suggestCharts', [key], {});\n",
              "      } catch (error) {\n",
              "        console.error('Error during call to suggestCharts:', error);\n",
              "      }\n",
              "      quickchartButtonEl.classList.remove('colab-df-spinner');\n",
              "      quickchartButtonEl.classList.add('colab-df-quickchart-complete');\n",
              "    }\n",
              "    (() => {\n",
              "      let quickchartButtonEl =\n",
              "        document.querySelector('#df-0e003c4d-cea0-4326-9c34-9f65dd0c97fa button');\n",
              "      quickchartButtonEl.style.display =\n",
              "        google.colab.kernel.accessAllowed ? 'block' : 'none';\n",
              "    })();\n",
              "  </script>\n",
              "</div>\n",
              "    </div>\n",
              "  </div>\n"
            ],
            "application/vnd.google.colaboratory.intrinsic+json": {
              "type": "dataframe",
              "variable_name": "naive_results_df",
              "summary": "{\n  \"name\": \"naive_results_df\",\n  \"rows\": 10,\n  \"fields\": [\n    {\n      \"column\": \"question\",\n      \"properties\": {\n        \"dtype\": \"string\",\n        \"num_unique_values\": 10,\n        \"samples\": [\n          \"Question: What did Alice do after she realized the White Rabbit was still in sight and hurrying down another long passage?\",\n          \"Question:\\nIn the context provided, how far does Alice estimate she has fallen so far?\",\n          \"Question:\\n\\nWho or what is Dinah in the context provided?\"\n        ],\n        \"semantic_type\": \"\",\n        \"description\": \"\"\n      }\n    },\n    {\n      \"column\": \"answer\",\n      \"properties\": {\n        \"dtype\": \"string\",\n        \"num_unique_values\": 9,\n        \"samples\": [\n          \"Alice took up the fan and gloves that the White Rabbit dropped and kept fanning herself as she continued talking.\",\n          \"Alice estimates that she has fallen about four thousand miles by this time.\",\n          \"Dinah is a cat, as mentioned in the context provided.\"\n        ],\n        \"semantic_type\": \"\",\n        \"description\": \"\"\n      }\n    },\n    {\n      \"column\": \"contexts\",\n      \"properties\": {\n        \"dtype\": \"object\",\n        \"semantic_type\": \"\",\n        \"description\": \"\"\n      }\n    },\n    {\n      \"column\": \"ground_truth\",\n      \"properties\": {\n        \"dtype\": \"string\",\n        \"num_unique_values\": 10,\n        \"samples\": [\n          \"After realizing the White Rabbit was still in sight and hurrying down another long passage, Alice was not a moment to lose and went away like the wind, managing to be just in time to hear the White Rabbit say, as it turned a corner, \\u201cOh my ears\\u201d.\",\n          \"Alice estimates she has fallen about four thousand miles.\",\n          \"Dinah is the cat in the provided context.\"\n        ],\n        \"semantic_type\": \"\",\n        \"description\": \"\"\n      }\n    },\n    {\n      \"column\": \"context_precision\",\n      \"properties\": {\n        \"dtype\": \"number\",\n        \"std\": 0.0,\n        \"min\": 0.9999999999,\n        \"max\": 0.9999999999,\n        \"num_unique_values\": 1,\n        \"samples\": [\n          0.9999999999\n        ],\n        \"semantic_type\": \"\",\n        \"description\": \"\"\n      }\n    },\n    {\n      \"column\": \"faithfulness\",\n      \"properties\": {\n        \"dtype\": \"number\",\n        \"std\": 0.5477225575051661,\n        \"min\": 0.0,\n        \"max\": 1.0,\n        \"num_unique_values\": 2,\n        \"samples\": [\n          0.0\n        ],\n        \"semantic_type\": \"\",\n        \"description\": \"\"\n      }\n    },\n    {\n      \"column\": \"answer_relevancy\",\n      \"properties\": {\n        \"dtype\": \"number\",\n        \"std\": 0.39060854778356924,\n        \"min\": 0.0,\n        \"max\": 0.9715892394716251,\n        \"num_unique_values\": 9,\n        \"samples\": [\n          0.8873588753238676\n        ],\n        \"semantic_type\": \"\",\n        \"description\": \"\"\n      }\n    },\n    {\n      \"column\": \"context_recall\",\n      \"properties\": {\n        \"dtype\": \"number\",\n        \"std\": 0.0,\n        \"min\": 1.0,\n        \"max\": 1.0,\n        \"num_unique_values\": 1,\n        \"samples\": [\n          1.0\n        ],\n        \"semantic_type\": \"\",\n        \"description\": \"\"\n      }\n    }\n  ]\n}"
            }
          },
          "metadata": {},
          "execution_count": 158
        }
      ]
    },
    {
      "cell_type": "markdown",
      "source": [
        "As we can see this result is noticeably worse!"
      ],
      "metadata": {
        "id": "e5JtfPa7-je7"
      }
    },
    {
      "cell_type": "code",
      "source": [
        "naive_result"
      ],
      "metadata": {
        "colab": {
          "base_uri": "https://localhost:8080/"
        },
        "id": "CmjofoPw-md7",
        "outputId": "774e67fb-59d2-438a-cbd1-c2ba37c2748c"
      },
      "execution_count": null,
      "outputs": [
        {
          "output_type": "execute_result",
          "data": {
            "text/plain": [
              "{'context_precision': 1.0000, 'faithfulness': 0.5000, 'answer_relevancy': 0.6492, 'context_recall': 1.0000}"
            ]
          },
          "metadata": {},
          "execution_count": 164
        }
      ]
    },
    {
      "cell_type": "code",
      "source": [
        "result"
      ],
      "metadata": {
        "colab": {
          "base_uri": "https://localhost:8080/"
        },
        "id": "_YzKg5Dx-n7_",
        "outputId": "3e6a90fd-a282-40ed-f406-a7c295b92c7e"
      },
      "execution_count": null,
      "outputs": [
        {
          "output_type": "execute_result",
          "data": {
            "text/plain": [
              "{'context_precision': 1.0000, 'faithfulness': 0.5000, 'answer_relevancy': 0.7399, 'context_recall': 1.0000}"
            ]
          },
          "metadata": {},
          "execution_count": 165
        }
      ]
    }
  ]
}