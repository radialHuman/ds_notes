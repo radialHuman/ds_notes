{
 "cells": [
  {
   "cell_type": "markdown",
   "id": "597f30be-9fab-4ecf-aa39-0be41fbe29ef",
   "metadata": {},
   "source": [
    "# Fine-tune Text Embeddings for AI Job Search\n",
    "\n",
    "Code authored by: Shaw Talebi\n",
    "\n",
    "[Video link](https://youtu.be/hOLBrIjRAj4) | [Blog link](https://shawhin.medium.com/fine-tuning-text-embeddings-f913b882b11c)<br>\n",
    "[Dataset](https://huggingface.co/datasets/shawhin/ai-job-embedding-finetuning) | [Fine-tuned Model](https://huggingface.co/shawhin/distilroberta-ai-job-embeddings) <br>\n",
    "Based on example from [here](https://sbert.net/docs/sentence_transformer/training_overview.html#trainer)"
   ]
  },
  {
   "cell_type": "markdown",
   "id": "3d251a5b-efea-411f-bd7d-29b219670c84",
   "metadata": {},
   "source": [
    "### imports"
   ]
  },
  {
   "cell_type": "code",
   "execution_count": 1,
   "id": "c848bcaa-ed83-4b71-8f7f-b537bbdbbdcb",
   "metadata": {},
   "outputs": [],
   "source": [
    "from datasets import load_dataset\n",
    "from sentence_transformers import (\n",
    "    SentenceTransformer,\n",
    "    SentenceTransformerTrainer,\n",
    "    SentenceTransformerTrainingArguments,\n",
    ")\n",
    "from sentence_transformers.losses import MultipleNegativesRankingLoss\n",
    "from sentence_transformers.training_args import BatchSamplers\n",
    "from sentence_transformers.evaluation import TripletEvaluator"
   ]
  },
  {
   "cell_type": "markdown",
   "id": "2a096f25-282b-4ace-bd21-cc2c0ce66aed",
   "metadata": {},
   "source": [
    "### import pre-trained model\n",
    "\n",
    "Various base models are ranked [here](https://sbert.net/docs/sentence_transformer/training_overview.html#best-base-embedding-models)"
   ]
  },
  {
   "cell_type": "code",
   "execution_count": 2,
   "id": "df197b28-f1d9-421a-a8b1-002017056650",
   "metadata": {},
   "outputs": [],
   "source": [
    "model_name = \"sentence-transformers/all-distilroberta-v1\" # acc = 0.88\n",
    "model = SentenceTransformer(model_name)\n",
    "\n",
    "# # other models\n",
    "# model_name = \"microsoft/mpnet-base\" # acc = 0.57\n",
    "# model_name = \"sentence-transformers/msmarco-bert-base-dot-v5\" # acc = 0.09\n",
    "# model_name = \"sentence-transformers/msmarco-distilbert-dot-v5\" # acc = 0.13"
   ]
  },
  {
   "cell_type": "markdown",
   "id": "62502468-8058-4856-99a3-96246bb2d709",
   "metadata": {},
   "source": [
    "### load dataset"
   ]
  },
  {
   "cell_type": "code",
   "execution_count": 3,
   "id": "7e475492-fc1c-4e6d-ac93-66c77891958a",
   "metadata": {},
   "outputs": [],
   "source": [
    "dataset = load_dataset(\"shawhin/ai-job-embedding-finetuning\")"
   ]
  },
  {
   "cell_type": "markdown",
   "id": "00dd597e-dcab-4ebb-8342-33457469c19d",
   "metadata": {},
   "source": [
    "### evaluate pre-trained model on eval data"
   ]
  },
  {
   "cell_type": "code",
   "execution_count": 4,
   "id": "0f1df83a-cf62-426b-9219-66bc71a604bc",
   "metadata": {},
   "outputs": [
    {
     "data": {
      "text/plain": [
       "{'ai-job-validation_cosine_accuracy': np.float64(0.8811881188118812)}"
      ]
     },
     "execution_count": 4,
     "metadata": {},
     "output_type": "execute_result"
    }
   ],
   "source": [
    "evaluator_valid = TripletEvaluator(\n",
    "    anchors=dataset[\"validation\"][\"query\"],\n",
    "    positives=dataset[\"validation\"][\"job_description_pos\"],\n",
    "    negatives=dataset[\"validation\"][\"job_description_neg\"],\n",
    "    name=\"ai-job-validation\",\n",
    ")\n",
    "evaluator_valid(model)"
   ]
  },
  {
   "cell_type": "markdown",
   "id": "6566df46-05b0-493d-a7d4-6969ad0d2130",
   "metadata": {},
   "source": [
    "### define loss function"
   ]
  },
  {
   "cell_type": "code",
   "execution_count": 5,
   "id": "e529d702-aa06-4905-aac5-8a006704442a",
   "metadata": {},
   "outputs": [],
   "source": [
    "loss = MultipleNegativesRankingLoss(model)"
   ]
  },
  {
   "cell_type": "markdown",
   "id": "adc317b3-889f-456f-83c3-fce687da88bd",
   "metadata": {},
   "source": [
    "### define training args"
   ]
  },
  {
   "cell_type": "code",
   "execution_count": 6,
   "id": "c1ea6d05-205b-4082-acca-0f06e09a91ad",
   "metadata": {},
   "outputs": [],
   "source": [
    "num_epochs = 1\n",
    "batch_size = 16\n",
    "lr = 2e-5\n",
    "finetuned_model_name = \"distilroberta-ai-job-embeddings\"\n",
    "\n",
    "train_args = SentenceTransformerTrainingArguments(\n",
    "    output_dir=f\"models/{finetuned_model_name}\",\n",
    "    num_train_epochs=num_epochs,\n",
    "    per_device_train_batch_size=batch_size,\n",
    "    per_device_eval_batch_size=batch_size,\n",
    "    learning_rate=lr,\n",
    "    warmup_ratio=0.1,\n",
    "    batch_sampler=BatchSamplers.NO_DUPLICATES,  # MultipleNegativesRankingLoss benefits from no duplicate samples in a batch\n",
    "    eval_strategy=\"steps\",\n",
    "    eval_steps=100,\n",
    "    logging_steps=100,\n",
    ")"
   ]
  },
  {
   "cell_type": "markdown",
   "id": "b760b8fa-282d-4857-8c7c-8f26e54dfe1a",
   "metadata": {},
   "source": [
    "### fine-tune model"
   ]
  },
  {
   "cell_type": "code",
   "execution_count": 7,
   "id": "3c5f8709-3cc4-4fef-b5ab-3a3298c46625",
   "metadata": {},
   "outputs": [
    {
     "data": {
      "text/html": [
       "\n",
       "    <div>\n",
       "      \n",
       "      <progress value='51' max='51' style='width:300px; height:20px; vertical-align: middle;'></progress>\n",
       "      [51/51 00:35, Epoch 1/1]\n",
       "    </div>\n",
       "    <table border=\"1\" class=\"dataframe\">\n",
       "  <thead>\n",
       " <tr style=\"text-align: left;\">\n",
       "      <th>Step</th>\n",
       "      <th>Training Loss</th>\n",
       "      <th>Validation Loss</th>\n",
       "    </tr>\n",
       "  </thead>\n",
       "  <tbody>\n",
       "  </tbody>\n",
       "</table><p>"
      ],
      "text/plain": [
       "<IPython.core.display.HTML object>"
      ]
     },
     "metadata": {},
     "output_type": "display_data"
    },
    {
     "data": {
      "application/vnd.jupyter.widget-view+json": {
       "model_id": "7dc7b7e37adb418dab71ac0393f93ea2",
       "version_major": 2,
       "version_minor": 0
      },
      "text/plain": [
       "Computing widget examples:   0%|          | 0/1 [00:00<?, ?example/s]"
      ]
     },
     "metadata": {},
     "output_type": "display_data"
    },
    {
     "name": "stdout",
     "output_type": "stream",
     "text": [
      "CPU times: user 18.9 s, sys: 4.23 s, total: 23.2 s\n",
      "Wall time: 37.3 s\n"
     ]
    },
    {
     "data": {
      "text/plain": [
       "TrainOutput(global_step=51, training_loss=0.8226340050790825, metrics={'train_runtime': 36.3893, 'train_samples_per_second': 22.232, 'train_steps_per_second': 1.402, 'total_flos': 0.0, 'train_loss': 0.8226340050790825, 'epoch': 1.0})"
      ]
     },
     "execution_count": 7,
     "metadata": {},
     "output_type": "execute_result"
    }
   ],
   "source": [
    "%%time\n",
    "trainer = SentenceTransformerTrainer(\n",
    "    model=model,\n",
    "    args=train_args,\n",
    "    train_dataset=dataset[\"train\"],\n",
    "    eval_dataset=dataset[\"validation\"],\n",
    "    loss=loss,\n",
    "    evaluator=evaluator_valid,\n",
    ")\n",
    "trainer.train()"
   ]
  },
  {
   "cell_type": "markdown",
   "id": "25be1bf8-c85b-4f22-8e77-1a87b84a66ab",
   "metadata": {},
   "source": [
    "### evaluate fine-tuned model"
   ]
  },
  {
   "cell_type": "code",
   "execution_count": 8,
   "id": "93fec7b7-6932-43ac-96bd-3730a94dc162",
   "metadata": {},
   "outputs": [
    {
     "name": "stdout",
     "output_type": "stream",
     "text": [
      "Validation: {'ai-job-validation_cosine_accuracy': np.float64(0.9900990099009901)}\n",
      "Test: {'ai-job-test_cosine_accuracy': np.float64(1.0)}\n"
     ]
    }
   ],
   "source": [
    "evaluator_test = TripletEvaluator(\n",
    "    anchors=dataset[\"test\"][\"query\"],\n",
    "    positives=dataset[\"test\"][\"job_description_pos\"],\n",
    "    negatives=dataset[\"test\"][\"job_description_neg\"],\n",
    "    name=\"ai-job-test\",\n",
    ")\n",
    "print(\"Validation:\", evaluator_valid(model))\n",
    "print(\"Test:\", evaluator_test(model))"
   ]
  },
  {
   "cell_type": "markdown",
   "id": "52b87a53-06d7-4928-940f-e9aeb64f29a9",
   "metadata": {},
   "source": [
    "### push fine-tuned model to HF hub"
   ]
  },
  {
   "cell_type": "code",
   "execution_count": 10,
   "id": "7be61b33-e8aa-4268-8d77-9e3ba1a82322",
   "metadata": {},
   "outputs": [
    {
     "data": {
      "application/vnd.jupyter.widget-view+json": {
       "model_id": "ea635439a2a84bda99bc5310501c1ac6",
       "version_major": 2,
       "version_minor": 0
      },
      "text/plain": [
       "VBox(children=(HTML(value='<center> <img\\nsrc=https://huggingface.co/front/assets/huggingface_logo-noborder.sv…"
      ]
     },
     "metadata": {},
     "output_type": "display_data"
    }
   ],
   "source": [
    "from huggingface_hub import notebook_login\n",
    "notebook_login()"
   ]
  },
  {
   "cell_type": "code",
   "execution_count": 11,
   "id": "9e57c444-59e4-4f49-812d-807643207703",
   "metadata": {},
   "outputs": [
    {
     "data": {
      "application/vnd.jupyter.widget-view+json": {
       "model_id": "45f12625ac974a4a9eeb7fe4c4b4f146",
       "version_major": 2,
       "version_minor": 0
      },
      "text/plain": [
       "model.safetensors:   0%|          | 0.00/328M [00:00<?, ?B/s]"
      ]
     },
     "metadata": {},
     "output_type": "display_data"
    },
    {
     "data": {
      "text/plain": [
       "'https://huggingface.co/shawhin/distilroberta-ai-job-embeddings/commit/5158057316815c5f6415f7afe5060a5a5083d367'"
      ]
     },
     "execution_count": 11,
     "metadata": {},
     "output_type": "execute_result"
    }
   ],
   "source": [
    "model.push_to_hub(f\"shawhin/{finetuned_model_name}\")"
   ]
  },
  {
   "cell_type": "code",
   "execution_count": null,
   "id": "e4df17bc-2d41-4e99-8c55-d95fb13c51b4",
   "metadata": {},
   "outputs": [],
   "source": []
  }
 ],
 "metadata": {
  "kernelspec": {
   "display_name": "Python 3 (ipykernel)",
   "language": "python",
   "name": "python3"
  },
  "language_info": {
   "codemirror_mode": {
    "name": "ipython",
    "version": 3
   },
   "file_extension": ".py",
   "mimetype": "text/x-python",
   "name": "python",
   "nbconvert_exporter": "python",
   "pygments_lexer": "ipython3",
   "version": "3.12.8"
  }
 },
 "nbformat": 4,
 "nbformat_minor": 5
}
