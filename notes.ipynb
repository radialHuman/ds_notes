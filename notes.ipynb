{
 "cells": [
  {
   "cell_type": "markdown",
   "id": "43752a9f",
   "metadata": {},
   "source": [
    "# Content\n",
    "\n",
    "### **[Preface](#preface)**\n",
    "## [Chapter 1](#chapter_1): Maths\n",
    "### **1.1 Stats**\n",
    "    [] 1.1.1 Mean, Median and Mode\n",
    "    [] 1.1.2 Correlation\n",
    "### **1.2 Probability**\n",
    "    [] 1.2.1 Conditional Probability\n",
    "    [] 1.2.2 P-value\n",
    "    [] 1.2.3 Likelihood\n",
    "### **1.3 Distributions**\n",
    "    [] 1.3.1 Normal\n",
    "    [] 1.3.2  \n",
    "    [] 1.3.3 Tests  \n",
    "### **1.4 Linear Algebra (Matrix)**\n",
    "    [] 1.4.1 Matrix Multiplication\n",
    "    [] 1.4.2 Inverse\n",
    "### **1.5 Diffrentiation**\n",
    "    [] 1.5.1 Gradient Descent\n",
    "### **1.6 Useful Functions**\n",
    "    [] 1.6.1 Activation Functions\n",
    "### **1.7 Stationarity**\n",
    "\n",
    "## [Chapter 2](#chapter_2) : Exploring data\n",
    "### **2.1 **\n",
    "### **2.2 Missing Value**\n",
    "### **2.3 Plots**\n",
    "### **2.4 Relations**\n",
    "### **2.5 Preprocessing**\n",
    "    [] 2.5.1 Language data\n",
    "    [] 2.5.2 One-Hot Encoding\n",
    "\n",
    "\n",
    "## [Chapter 3](#chapter_3) : Regression\n",
    "### **3.1 Why?**\n",
    "### **3.2 Linear Regression**\n",
    "    [X] 3.2.1 Assumptions\n",
    "    [/] 3.2.2 Working\n",
    "    [] 3.2.3 Pros and Cons\n",
    "### **3.3 Polynomial Regression**\n",
    "    [] 3.3.1 Working\n",
    "### **3.4 Regularization**\n",
    "    [] 3.4.1 Lasso\n",
    "    [] 3.4.1 Ridge\n",
    "    [] 3.4.1 Elastic\n",
    "### **3.5 Validation**\n",
    "### **3.6 Metirics**\n",
    "    [] 3.6.1 R2\n",
    "    [] 3.6.2 Adjusted R2\n",
    "\n",
    "## [Chapter 4](#chapter_4) : Classification\n",
    "### **4.1 Why?**\n",
    "### **4.2 Logistic Regression**\n",
    "    [] 4.2.1 Working\n",
    "    [] 4.2.2 Pros and cons\n",
    "### **4.3 Decision Tree**\n",
    "    [] 4.3.1 Classification\n",
    "    [] 4.3.2 Regression\n",
    "    [] 4.3.3 Pros and Cons\n",
    "### **4.4 Random Forest**\n",
    "    [] 4.4.1 Working\n",
    "    [] 4.4.2 Types\n",
    "    [] 4.4.3 Pros and Cons\n",
    "### **4.5 Support Vector Machine**\n",
    "    [] 4.5.1 Working\n",
    "    [] 4.5.2 Pros and cons\n",
    "### **4.6 K-nearest Neighbour**\n",
    "    [] 4.6.1 Working\n",
    "    [] 4.6.2 Pros and cons\n",
    "### **4.7 Naive Bayes**\n",
    "    [] 4.7.1 Working\n",
    "    [] 4.7.2 Pros and cons\n",
    "### **4.8 Validation**\n",
    "    [] 4.8.1 K-Fold\n",
    "### **4.9 Imbalanced Data**\n",
    "### **4.10 Metrics**\n",
    "    [] 4.10.1 Confusion Matrix\n",
    "\n",
    "## [Chapter 5](#chapter_5) : Unsupervised\n",
    "### **5.1 K-Means**\n",
    "    [] 5.1.1 Working\n",
    "    [] 5.1.2 Pros and cons\n",
    "### **5.2 K-Medoid**\n",
    "    [] 5.2.1 Working\n",
    "    [] 5.2.2 Pros and cons\n",
    "### **5.3 Hierarchical**\n",
    "    [] 5.3.1 Working\n",
    "    [] 5.3.2 Pros and cons\n",
    "### **5.4 Assosiative**\n",
    "    [] 5.4.1 Working\n",
    "    [] 5.4.2 Pros and cons\n",
    "### **5.5 TSNE**\n",
    "    [] 5.5.1 Working\n",
    "    [] 5.5.2 Pros and cons\n",
    "### **5.6 LDA**\n",
    "    [] 5.6.1 Working\n",
    "    [] 5.6.2 Pros and cons\n",
    "### **5.7 PCA**\n",
    "    [] 5.7.1 Working\n",
    "    [] 5.7.2 Pros and cons\n",
    "\n",
    "## [Chapter 6](#chapter_6) : Time Series\n",
    "### **6.1 ARIMA**\n",
    "    [] 6.1.1 AR\n",
    "    [] 6.1.2 MA\n",
    "    [] 6.1.3 ARIMAX\n",
    "    [] 6.1.4 SARIMA\n",
    "### **6.2 VAR**\n",
    "### **6.3 **\n",
    "### **6.4 Validation**\n",
    "### **6.5 Metrics**\n",
    "\n",
    "## [Chapter 7](#chapter_7) : Neural Networks\n",
    "### **7.1 Motivation**\n",
    "### **7.2 CNN**\n",
    "    [] 7.2.1 Working\n",
    "    [] 7.2.2 Pros and cons\n",
    "### **7.3 RNN**\n",
    "    [] 7.3.1 Working\n",
    "    [] 7.3.2 Pros and cons\n",
    "### **7.4 LSTM**\n",
    "    [] 7.4.1 Working\n",
    "    [] 7.4.2 Pros and cons\n",
    "### **7.5 Auto Encoder**\n",
    "    [] 7.5.1 Working\n",
    "    [] 7.5.2 Pros and cons\n",
    "### **7.6 Generative Adversarial Network**\n",
    "    [] 7.6.1 Working\n",
    "    [] 7.6.2 Pros and cons\n",
    "### **7.7 Transformers**\n",
    "    [] 7.7.1 Working\n",
    "    [] 7.7.2 Pros and cons\n",
    "\n",
    "## [Chapter 8](#chapter_8) : Language Processing\n",
    "### **8.1 TF-IDF**\n",
    "    [] 8.1.1 Working\n",
    "    [] 8.1.2 Pros and cons\n",
    "### **8.2 Word Embedding**\n",
    "    [] 8.2.1 Working\n",
    "    [] 8.2.2 Pros and cons\n",
    "### **8.3 Summarization**\n",
    "    [] 8.3.1 Working\n",
    "    [] 8.3.2 Pros and cons\n",
    "### **8.4 Sentiment Analysis**\n",
    "    [] 8.4.1 Working\n",
    "    [] 8.4.2 Pros and cons\n",
    "### **8.5 BERT**\n",
    "    [] 8.5.1 Working\n",
    "    [] 8.5.2 Pros and cons\n",
    "\n",
    "## [Chapter 9](#chapter_9) : Recommender System\n",
    "### **9.1 **\n",
    "\n",
    "## [Chapter 10](#chapter_10) : Python\n",
    "### **10.1 Pandas**\n",
    "    [] 10.1.1 \n",
    "    [] 10.1.2 \n",
    "    [] 10.1.3 \n",
    "    [] 10.1.4 \n",
    "    [] 10.1.5 \n",
    "    [] 10.1.6 \n",
    "    [] 10.1.7 \n",
    "    [] 10.1.8 \n",
    "    [] 10.1.9 \n",
    "### **10.2 Numpy**\n",
    "    [] 10.2.1 \n",
    "    [] 10.2.2 \n",
    "    [] 10.2.3 \n",
    "    [] 10.2.4 \n",
    "    [] 10.2.5 \n",
    "    [] 10.2.6 \n",
    "    [] 10.2.7 \n",
    "    [] 10.2.8 \n",
    "    [] 10.2.9 \n",
    "### **10.3 Scikit-learn**\n",
    "    [] 10.3.1 \n",
    "    [] 10.3.2 \n",
    "    [] 10.3.3 \n",
    "    [] 10.3.4 \n",
    "    [] 10.3.5 \n",
    "    [] 10.3.6 \n",
    "    [] 10.3.7 \n",
    "    [] 10.3.8 \n",
    "    [] 10.3.9 \n",
    "### **10.4 statsmodel**\n",
    "### **10.5 TensorFlow**\n",
    "    [] 10.5.1 \n",
    "    [] 10.5.2 \n",
    "    [] 10.5.3 \n",
    "    [] 10.5.4 \n",
    "    [] 10.5.5 \n",
    "    [] 10.5.6 \n",
    "    [] 10.5.7 \n",
    "    [] 10.5.8 \n",
    "    [] 10.5.9 \n",
    "### **10.6 Pytorch**\n",
    "### **10.7 NLTK**\n",
    "### **10.8 Scpacy**\n",
    "### **10.9 Gensim**\n",
    "### **10.10 Pycaret**\n",
    "### **10.11 AutoML**\n",
    "### **10.12 EDA**\n",
    "    [] 10.12.1 Sweetviz\n",
    "    [] 10.12.2 D-tale\n",
    "    [] 10.12.3 DataPrep\n",
    "    [] 10.12.4 Mito\n",
    "\n",
    "## [Chapter 11](#chapter_11) : Maintaining Models\n",
    "### **11.1 MLFlow**\n",
    "    [] 11.1.1 Working\n",
    "    [] 11.1.2 Parts\n",
    "    [] 11.1.3 Pros and cons\n",
    "### **11.2 KubeFlow**\n",
    "    [] 11.2.1 Working\n",
    "    [] 11.2.2 Parts\n",
    "    [] 11.2.3 Pros and cons\n",
    "### **11.3 SageMaker**\n",
    "    [] 11.3.1 Working\n",
    "    [] 11.3.2 Parts\n",
    "    [] 11.3.3 Pros and cons\n",
    "### **11.4 Metaflow**\n",
    "    [] 11.4.1 Working\n",
    "    [] 11.4.2 Parts\n",
    "    [] 11.4.3 Pros and cons\n",
    "### **11.5 TFx**\n",
    "    [] 11.5.1 Working\n",
    "    [] 11.5.2 Parts\n",
    "    [] 11.5.3 Pros and cons\n",
    "### **11.6 MLCOmet**\n",
    "    [] 11.6.1 Working\n",
    "    [] 11.6.2 Parts\n",
    "    [] 11.6.3 Pros and cons\n",
    "### **11.7 CookieCutter**\n",
    "    [] 11.7.1 Working\n",
    "    [] 11.7.2 Parts\n",
    "    [] 11.7.3 Pros and cons\n",
    "### **11.8 Kendro**\n",
    "    [] 11.8.1 Working\n",
    "    [] 11.8.2 Parts\n",
    "    [] 11.8.3 Pros and cons\n",
    "### **11.9 Kale**\n",
    "    [] 11.9.1 Working\n",
    "    [] 11.9.2 Parts\n",
    "    [] 11.9.3 Pros and cons\n",
    "\n",
    "## [Chapter 12](#chapter_12) : Git stuff\n",
    "### **12.1 Commands**\n",
    "### **12.2**\n",
    "### **12.5 DVC**\n",
    "\n",
    "## [Chapter 13](#chapter_13) : Cloud Stuff\n",
    "### **13.1 AWS**\n",
    "### **13.2 GCP**\n",
    "### **13.3 Azure**\n",
    "### **13.4**\n",
    "### **13.5**\n",
    "\n",
    "## [Chapter 14](#chapter_14) : Containers\n",
    "### **14.1 Docker**\n",
    "### **14.2 Kubernetes**\n",
    "### **14.3**\n",
    "### **14.4**\n",
    "### **14.5**\n",
    "\n",
    "## [Chapter 15](#chapter_15) : Data Storage\n",
    "### **15.1 Spark**\n",
    "    [] 15.1.1 Working\n",
    "    [] 15.1.2 Parts\n",
    "    [] 15.1.3 Pros and cons\n",
    "### **15.2 Hadoop**\n",
    "    [] 15.2.1 Working\n",
    "    [] 15.2.2 Parts\n",
    "    [] 15.2.3 Pros and cons\n",
    "### **15.3 SQL**\n",
    "### **15.4 NoSQL**\n",
    "\n",
    "## [Chapter 16](#chapter_16) : Misc\n",
    "### **16.1 API**\n",
    "### **16.2 Flask**\n",
    "### **16.3 Django**\n",
    "### **16.4 Streamlit**\n",
    "\n",
    " ---\n",
    "### Resources\n",
    "### Videos\n",
    "### Books\n",
    "---\n",
    "---"
   ]
  },
  {
   "cell_type": "code",
   "execution_count": null,
   "id": "fce2fd9c",
   "metadata": {},
   "outputs": [],
   "source": []
  },
  {
   "cell_type": "markdown",
   "id": "0a111bf3",
   "metadata": {},
   "source": [
    "<a id='preface'></a>\n",
    "## Preface"
   ]
  },
  {
   "cell_type": "markdown",
   "id": "1f4f2b9e",
   "metadata": {},
   "source": [
    "A refresher for all thats related to contemporary (2021) data science. "
   ]
  },
  {
   "cell_type": "markdown",
   "id": "2569b2ec",
   "metadata": {},
   "source": [
    "<a id='chapter_1'></a>\n",
    "## Chapter 1: Maths"
   ]
  },
  {
   "cell_type": "markdown",
   "id": "42878677",
   "metadata": {},
   "source": [
    "<a id='chapter_2'></a>\n",
    "## Chapter 2 : Exploring data"
   ]
  },
  {
   "cell_type": "markdown",
   "id": "107d0b2d",
   "metadata": {},
   "source": [
    "<a id='chapter_3'></a>\n",
    "## Chapter 3 : Regression"
   ]
  },
  {
   "cell_type": "markdown",
   "id": "9b298a57",
   "metadata": {},
   "source": [
    "### 3.1 Why?"
   ]
  },
  {
   "cell_type": "markdown",
   "id": "fb4d84aa",
   "metadata": {},
   "source": [
    "* To get an equation of a line/plane/multi-dimensional plane with all the features learning their weights (coefficients) and a bias term to predict the target variable\n",
    "* Simple to explain as weights tell how important the feature is while predicting the target\n",
    "* Explains a unit change in a feature and its affect on target while keeping all the other weights and bias same"
   ]
  },
  {
   "cell_type": "markdown",
   "id": "526ecfd1",
   "metadata": {},
   "source": [
    "### 3.2 Linear Regression"
   ]
  },
  {
   "cell_type": "markdown",
   "id": "250b9ebb",
   "metadata": {},
   "source": [
    "* When the relation between the features and the target is linear i.e. while plotting each feature against the target if there exists a straight line that can explain most of the points or points fall close to the straight line\n",
    "> Example: Target = Bias + w1\\*Feature1 + w2\\*Feature2 +  w3\\*Feature3 + ... +  wN\\*FeatureN + error"
   ]
  },
  {
   "cell_type": "markdown",
   "id": "1a537768",
   "metadata": {},
   "source": [
    "#### 3.2.1 Assumptions"
   ]
  },
  {
   "cell_type": "markdown",
   "id": "126814bf",
   "metadata": {},
   "source": [
    "**Souce** : https://www.youtube.com/playlist?list=PLTNMv857s9WUI1Nz4SssXDKAELESXz-bi\n",
    "* Is these assumptions are not meet, the values of wieghts and bias derived will not be reliable on unknown inputs"
   ]
  },
  {
   "cell_type": "markdown",
   "id": "05ee36b1",
   "metadata": {},
   "source": [
    "1. There is a linear relation between the features and the target : plot scatter plot and check for each feature against target\n",
    "\n",
    "> **What does it mean?**\n",
    "> * The function/equation in this case, should be of specific type\n",
    "\n",
    "\n",
    "> **What if its not?**\n",
    "> * The relation is not linear and the line/equation formed will not be the best fit line\n",
    "\n",
    "> **How to find out?**\n",
    "> * Residual Plot (when the line drawn from the relation between feature and target is parallel along the x-axis)\n",
    "> * In this plot, the points should show any pattern like a curve and must be random\n",
    "> * Likelihood ratio test : TODO\n",
    "\n",
    "> **How to fix this?**\n",
    "> * By adding/transforming the feature with functions like log or polynomials and making the equation such that the line fits well and there is no pattern in the residual plot (trail and error)\n"
   ]
  },
  {
   "cell_type": "markdown",
   "id": "4659a8da",
   "metadata": {},
   "source": [
    "2. The correlation between features is as low as possible (No multicolleniarity) : \n",
    "\n",
    "> **What does it mean?**\n",
    "> * Correlation between the fetures is high\n",
    "\n",
    "> **What if its not?**\n",
    "> * Multiple effects on target by feature. \n",
    "> * While interpreting, the other features will not be constant as they are related\n",
    "> * Equation is unreliable completely\n",
    "\n",
    "> **How to find out?**\n",
    "> *  Correlation among features \n",
    "> * Variance inflation factor (VIF) : Finds how is the model's variance, if one of the related variables is removed. If the VIF of a feature is more, the info provided by that feature already exists in the other features\n",
    "\n",
    "> **How to fix this?**\n",
    "> * Remove a feature\n"
   ]
  },
  {
   "cell_type": "markdown",
   "id": "57618777",
   "metadata": {},
   "source": [
    "3. The variance of the residuals should not vary as the target is increased in residual plot (No Heteroscedasticity) : \n",
    "\n",
    "> **What does it mean?**\n",
    "> * If a feature has a wide range of numbers then this can happen as the feature might not be a good predictor\n",
    "> * The variance of points when plotted X vs Y, is not constant\n",
    "\n",
    "> **What if its not?**\n",
    "> * Std. erros of the equation will not be reliable\n",
    "\n",
    "> **How to find out?**\n",
    "> * In residual plot of the particular feature, the poitns would be funnel shaped as the variance is not constant\n",
    "> * Goldfledt-Quant test : TODO\n",
    "> * Breusch-Pagan test : TODO\n",
    "\n",
    "> **How to fix this?**\n",
    "> * Log transformation on the feture might help\n"
   ]
  },
  {
   "cell_type": "markdown",
   "id": "34faffef",
   "metadata": {},
   "source": [
    "4. Each error should be independent of the other (No Autocorrelation/Serial Corrleation)\n",
    "\n",
    "> **What does it mean?**\n",
    "> * Usually occurs in time series data.\n",
    "> * If there is any order/time relation to feature, rare\n",
    "> * Successive value of feature depends on its past values, might even show seasonality or trend\n",
    "\n",
    "> **What if its not?**\n",
    "> * Std errors cant be relied on ergo hypothesis testing on the feature's coefficient will be difficult\n",
    "\n",
    "> **How to find out?**\n",
    "> * Residual plot might show wave like patterns\n",
    "> * Durbin-Watson test\n",
    "> * Breusch-Godfrey test\n",
    "\n",
    "> **How to fix this?**\n",
    "> * Look for features that are affecting the target (Missing features)\n",
    "> * Target can be modified by finding weight difference like AR(1) or Cochrane-Orchutt method \n"
   ]
  },
  {
   "cell_type": "markdown",
   "id": "14dc5fba",
   "metadata": {},
   "source": [
    "5. The spread of the errors at a given point, should be normally distributed\n",
    "\n",
    "> **What does it mean?**\n",
    "> * At any given point in the residual plot, the errors occuring, must fit in nicely with a normal distributed bell curve\n",
    "\n",
    "\n",
    "> **What if its not?**\n",
    "> * Not that big of an issue when data points are more\n",
    "> * For small size of data, std error are not reliable\n",
    "\n",
    "> **How to find out?**\n",
    "> * Histogram of residuals : must fit a bell curve\n",
    "> * Q-Q Plot : Quantiles from feature vs quantiles of normally distributed data, must fit the line to be used\n",
    "> * Shapiro-Wilk test\n",
    "> * Komolgorov-Smirnov test\n",
    "> * Anderson-Darling test\n",
    "\n",
    "> **How to fix this?**\n",
    "> * Get more data points\n",
    "> * Transform the feature by log etc\n"
   ]
  },
  {
   "cell_type": "markdown",
   "id": "4d89dc7d",
   "metadata": {},
   "source": [
    "6. Exogeneity\n",
    "\n",
    "> **What does it mean?**\n",
    "> * When an equation doesn have all the required and missing feature affects other features and the target, there exists a ommited variable bias\n",
    ">* This would cause error term to indicate something is missing\n",
    "\n",
    "> **What if its not?**\n",
    "> * Causation cant be known completely\n",
    "\n",
    "> **How to find out?**\n",
    "> * Domain knowledge/logic : to find whats missing \n",
    "\n",
    "> **How to fix this?**\n",
    "> * Instrumental variables : TODO\n"
   ]
  },
  {
   "cell_type": "markdown",
   "id": "01026a17",
   "metadata": {},
   "source": [
    "#### 3.2.2 Working"
   ]
  },
  {
   "cell_type": "markdown",
   "id": "ceedd5a4",
   "metadata": {},
   "source": [
    "*Terminology*\n",
    "1. **SSE** : Squared distance between actual and predicted value\n",
    "1. **SSR** : squared distance between predicted value and mean of feature (unexplained error)\n",
    "1. **SST** : Squared distance between target and mean of feature (SSR+SSE) (explained error)\n",
    "1. **R2** : 1-(SSR/SST)\n",
    "1. **Adjusted R2** : 1-((1-R2)(# of datapoints-1)/(# of data points-1-# of features))"
   ]
  },
  {
   "cell_type": "markdown",
   "id": "8d074f94",
   "metadata": {},
   "source": [
    "1. Gradient Descent technique\n",
    "\n",
    "> * Like many other ML algorithms, this uses a cost function to get learn the values of weights and bias\n",
    "> * The slope on which the global minima to be found is created using error vs all possible combinations of the coefficients\n",
    "\n",
    "> * The cost function can vary as per requirement ex: MSE, MAE/MAD, MAPE, MASE, Hubier\n",
    "> *MSE* : Mean square error (predicted - actual)^2. (-) Outlier handelling is bad, as the error is sqaured\n",
    "> *MAE* : mean absolute error |predicted - actual|. (-) Computationally expensive, cant be differentiated but good with outliers\n",
    "> *Hubier* : If the error is small acts like MSE else MAE, (-) Needs extra hyperparameter tuning \n",
    "> *MAPE* : TODO\n",
    "> *MASE* : TODO\n",
    "\n",
    "> 1. A line is drawn, and these predicted values are compared with the actual values. Since difference between these values (error) can be nullified either a square (MSE) or an absolute (MAE) or combination of both (Hubier) is used to find the loss value\n",
    "> 2. The idea is to find a combination of weights (coefficients of features) that gives the least error \n",
    "> 3. This is done using finding global minima in the landscape where error is plotted against all the coefficients\n",
    "> 4. Gradient descent (using partial derivative w.r.t. each feature) finds the slope of a particular combination and moves one step in a direction, if the slope is negative then it keeps moving till it reaches a point where the slope becomes positive or error doesn seem to change in any direction"
   ]
  },
  {
   "cell_type": "markdown",
   "id": "c3262098",
   "metadata": {},
   "source": [
    "2. Oridinary least square method (y = mx+c)\n",
    "\n",
    "> * To find slope m  = sum((each feature value - mean of the feature)\\*(each target - mean of target))/sum((each feature value - mean of the feature)^2)\n",
    "> * To find intercept c = mean of target - m*(mean of feature)"
   ]
  },
  {
   "cell_type": "markdown",
   "id": "dba037b2",
   "metadata": {},
   "source": [
    "3. Using Linear ALgebra\n"
   ]
  },
  {
   "cell_type": "markdown",
   "id": "bdd27df2",
   "metadata": {},
   "source": [
    "<a id='chapter_4'></a>\n",
    "## Chapter 4 : Classification"
   ]
  },
  {
   "cell_type": "markdown",
   "id": "51bebdc0",
   "metadata": {},
   "source": [
    "<a id='chapter_5'></a>\n",
    "## Chapter 5 : Unsupervised"
   ]
  },
  {
   "cell_type": "markdown",
   "id": "59e23e9c",
   "metadata": {},
   "source": [
    "<a id='chapter_6'></a>\n",
    "## Chapter 6 : Time Series"
   ]
  },
  {
   "cell_type": "markdown",
   "id": "5b5f732f",
   "metadata": {},
   "source": [
    "<a id='chapter_7'></a>\n",
    "## Chapter 7 : Neural Network"
   ]
  },
  {
   "cell_type": "markdown",
   "id": "06dce687",
   "metadata": {},
   "source": [
    "<a id='chapter_8'></a>\n",
    "## Chapter 8 : Language Processing"
   ]
  },
  {
   "cell_type": "markdown",
   "id": "c71122c2",
   "metadata": {},
   "source": [
    "<a id='chapter_9'></a>\n",
    "## Chapter 9 : Recommender System"
   ]
  },
  {
   "cell_type": "markdown",
   "id": "eb539049",
   "metadata": {},
   "source": [
    "<a id='#chapter_10'></a>\n",
    "## Chapter 10 : Python"
   ]
  },
  {
   "cell_type": "markdown",
   "id": "f18ae23b",
   "metadata": {},
   "source": [
    "<a id='#chapter_11'></a>\n",
    "## Chapter 11 : Maintaining Models"
   ]
  },
  {
   "cell_type": "markdown",
   "id": "148cd7bd",
   "metadata": {},
   "source": [
    "<a id='#chapter_12'></a>\n",
    "## Chapter 12 : Git stuff"
   ]
  },
  {
   "cell_type": "markdown",
   "id": "9a856b21",
   "metadata": {},
   "source": [
    "<a id='#chapter_13'></a>\n",
    "## Chapter 13 : Cloud Stuff"
   ]
  },
  {
   "cell_type": "markdown",
   "id": "7efcef6e",
   "metadata": {},
   "source": [
    "<a id='#chapter_14'></a>\n",
    "## Chapter 14 : Containers"
   ]
  },
  {
   "cell_type": "markdown",
   "id": "0de948a6",
   "metadata": {},
   "source": [
    "<a id='#chapter_15'></a>\n",
    "## Chapter 15 : Data Storage"
   ]
  },
  {
   "cell_type": "markdown",
   "id": "0a2ca2c0",
   "metadata": {},
   "source": [
    "<a id='#chapter_16'></a>\n",
    "## Chapter 16 : Misc"
   ]
  },
  {
   "cell_type": "code",
   "execution_count": null,
   "id": "f2e96b5e",
   "metadata": {},
   "outputs": [],
   "source": []
  },
  {
   "cell_type": "code",
   "execution_count": null,
   "id": "349cfa65",
   "metadata": {},
   "outputs": [],
   "source": []
  },
  {
   "cell_type": "code",
   "execution_count": null,
   "id": "0324a000",
   "metadata": {},
   "outputs": [],
   "source": []
  },
  {
   "cell_type": "code",
   "execution_count": null,
   "id": "a70bdaec",
   "metadata": {},
   "outputs": [],
   "source": []
  },
  {
   "cell_type": "code",
   "execution_count": null,
   "id": "449c974b",
   "metadata": {},
   "outputs": [],
   "source": []
  },
  {
   "cell_type": "code",
   "execution_count": null,
   "id": "3e404a83",
   "metadata": {},
   "outputs": [],
   "source": []
  },
  {
   "cell_type": "code",
   "execution_count": null,
   "id": "3581c275",
   "metadata": {},
   "outputs": [],
   "source": []
  },
  {
   "cell_type": "code",
   "execution_count": null,
   "id": "425019ba",
   "metadata": {},
   "outputs": [],
   "source": []
  },
  {
   "cell_type": "code",
   "execution_count": null,
   "id": "96734134",
   "metadata": {},
   "outputs": [],
   "source": []
  },
  {
   "cell_type": "code",
   "execution_count": null,
   "id": "10c9f138",
   "metadata": {},
   "outputs": [],
   "source": []
  },
  {
   "cell_type": "code",
   "execution_count": null,
   "id": "60efe105",
   "metadata": {},
   "outputs": [],
   "source": []
  }
 ],
 "metadata": {
  "kernelspec": {
   "display_name": "Python 3",
   "language": "python",
   "name": "python3"
  },
  "language_info": {
   "codemirror_mode": {
    "name": "ipython",
    "version": 3
   },
   "file_extension": ".py",
   "mimetype": "text/x-python",
   "name": "python",
   "nbconvert_exporter": "python",
   "pygments_lexer": "ipython3",
   "version": "3.9.4"
  }
 },
 "nbformat": 4,
 "nbformat_minor": 5
}
